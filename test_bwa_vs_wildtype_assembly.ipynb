{
 "cells": [
  {
   "cell_type": "code",
   "execution_count": 2,
   "metadata": {
    "collapsed": false
   },
   "outputs": [],
   "source": [
    "import os\n",
    "genome = os.path.basename(os.getcwd())\n",
    "hub_path = os.path.join(os.getcwd(), genome + '_hub')\n",
    "scaffold_2bit = '/hive/users/ifiddes/notch2nl_berkeley_data/E2del19N_E2del68_combined_longranger/E2del68_E2del19N_combined/new-assembly/scaffolded.2bit'"
   ]
  },
  {
   "cell_type": "code",
   "execution_count": 8,
   "metadata": {
    "collapsed": false
   },
   "outputs": [
    {
     "name": "stdout",
     "output_type": "stream",
     "text": [
      "[M::bam2fq_mainloop] processed 995798 reads\n",
      "[M::bwa_idx_load_from_disk] read 0 ALT contigs\n",
      "[M::process] read 573476 sequences (80000247 bp)...\n",
      "[M::process] read 422322 sequences (58913574 bp)...\n",
      "[M::mem_process_seqs] Processed 573476 reads in 201.593 CPU sec, 25.139 real sec\n",
      "[M::mem_process_seqs] Processed 422322 reads in 167.400 CPU sec, 20.844 real sec\n",
      "[main] Version: 0.7.12-r1044\n",
      "[main] CMD: bwa mem -t 8 /hive/users/ifiddes/notch2nl_berkeley_data/E2del19N_E2del68_combined_longranger/E2del68_E2del19N_combined/new-assembly/hg38_scaffolded_contigs/combined.fa consensus_reads.fq\n",
      "[main] Real time: 47.269 sec; CPU: 370.256 sec\n"
     ]
    }
   ],
   "source": [
    "# run bwa\n",
    "!samtools fastq  {genome}.consensus_mapped.sorted.bam > consensus_reads.fq\n",
    "!bwa mem -t 8 /hive/users/ifiddes/notch2nl_berkeley_data/E2del19N_E2del68_combined_longranger/E2del68_E2del19N_combined/new-assembly/hg38_scaffolded_contigs/combined.fa consensus_reads.fq > combined_scaffold_mapped.sam "
   ]
  },
  {
   "cell_type": "code",
   "execution_count": 3,
   "metadata": {
    "collapsed": false
   },
   "outputs": [],
   "source": [
    "# load barcode map\n",
    "bcode_map = {}\n",
    "for x in open('{}.sorted.fastq'.format(genome)):\n",
    "    if x.startswith('@'):\n",
    "        name, bcode = x.split()\n",
    "        name = name[1:-2]\n",
    "        bcode_map[name] = bcode"
   ]
  },
  {
   "cell_type": "code",
   "execution_count": 4,
   "metadata": {
    "collapsed": false
   },
   "outputs": [],
   "source": [
    "# divide reads by barcode\n",
    "import pysam\n",
    "from collections import *\n",
    "s = defaultdict(list)\n",
    "for x in pysam.Samfile('combined_scaffold_mapped.sam'):\n",
    "    if not x.is_unmapped:\n",
    "        bcode = bcode_map[x.qname]\n",
    "        s[bcode].append(x)"
   ]
  },
  {
   "cell_type": "code",
   "execution_count": 5,
   "metadata": {
    "collapsed": false
   },
   "outputs": [
    {
     "data": {
      "text/plain": [
       "<matplotlib.axes._subplots.AxesSubplot at 0x7fcb46e37950>"
      ]
     },
     "execution_count": 5,
     "metadata": {},
     "output_type": "execute_result"
    },
    {
     "data": {
      "image/png": "[encoded data removed]",
      "text/plain": [
       "<matplotlib.figure.Figure at 0x7fcb46e27710>"
      ]
     },
     "metadata": {},
     "output_type": "display_data"
    }
   ],
   "source": [
    "# plot the average and sum of each barcode\n",
    "import seaborn as sns\n",
    "import matplotlib.pyplot as plt\n",
    "import numpy as np\n",
    "%matplotlib inline\n",
    "\n",
    "avg = [np.mean([x.mapq for x in y]) for y in s.itervalues()]\n",
    "#tot = [sum([x.mapq for x in y]) for y in s.itervalues()]\n",
    "sns.distplot(avg)\n",
    "#sns.distplot(tot)"
   ]
  },
  {
   "cell_type": "code",
   "execution_count": 6,
   "metadata": {
    "collapsed": false
   },
   "outputs": [],
   "source": [
    "# find haplotype with highest average mapq\n",
    "by_avg = {}\n",
    "for bcode, reads in s.iteritems():\n",
    "    by_tgt = defaultdict(list)\n",
    "    for r in reads:\n",
    "        by_tgt[r.reference_name].append([r, r.mapq])\n",
    "    avgs = {}\n",
    "    for rname, rname_vals in by_tgt.iteritems():\n",
    "        rname_reads, mapqs = zip(*rname_vals)\n",
    "        avgs[rname] = np.mean(mapqs)\n",
    "    if all(x == 0 for x in avgs.itervalues()):\n",
    "        continue\n",
    "    ordered = sorted(avgs.iteritems(), key=lambda x:x[1])\n",
    "    best_name, best_score = ordered[-1]\n",
    "    if len(ordered) > 1 and best_score > ordered[-2][1]:\n",
    "        mappings = [x for x in reads if x.reference_name == best_name]\n",
    "        by_avg[bcode] = mappings"
   ]
  },
  {
   "cell_type": "code",
   "execution_count": 7,
   "metadata": {
    "collapsed": false
   },
   "outputs": [
    {
     "data": {
      "text/plain": [
       "[<matplotlib.axis.XTick at 0x7fcb43fabf10>,\n",
       " <matplotlib.axis.XTick at 0x7fcb96383ed0>,\n",
       " <matplotlib.axis.XTick at 0x7fcb43f6bf90>,\n",
       " <matplotlib.axis.XTick at 0x7fcb43f2a910>,\n",
       " <matplotlib.axis.XTick at 0x7fcb43f360d0>,\n",
       " <matplotlib.axis.XTick at 0x7fcb43f36850>,\n",
       " <matplotlib.axis.XTick at 0x7fcb43f36fd0>,\n",
       " <matplotlib.axis.XTick at 0x7fcb43f41790>,\n",
       " <matplotlib.axis.XTick at 0x7fcb43f41f10>,\n",
       " <matplotlib.axis.XTick at 0x7fcb43f486d0>]"
      ]
     },
     "execution_count": 7,
     "metadata": {},
     "output_type": "execute_result"
    },
    {
     "data": {
      "image/png": "[encoded data removed]",
      "text/plain": [
       "<matplotlib.figure.Figure at 0x7fcb97471410>"
      ]
     },
     "metadata": {},
     "output_type": "display_data"
    }
   ],
   "source": [
    "import pandas as pd\n",
    "# distribution by name?\n",
    "hits = []\n",
    "for x in by_avg.itervalues():\n",
    "    hits.append(x[0].reference_name)\n",
    "\n",
    "df = pd.DataFrame.from_dict(Counter(hits).items())\n",
    "df = df.set_index(0).T\n",
    "fig, ax = plt.subplots()\n",
    "bars = []\n",
    "cumulative = np.zeros(len(df.columns))\n",
    "color_palette = sns.color_palette(\"Set2\", 10)\n",
    "for i, (_, d) in enumerate(df.iterrows()):\n",
    "    bars.append(ax.bar(np.arange(len(df.columns)), d, 0.3, bottom=cumulative,\n",
    "                       color=color_palette[i], linewidth=0.0))\n",
    "    cumulative += d\n",
    "names = df.columns\n",
    "import matplotlib\n",
    "ax.margins(y=0.15)\n",
    "ax.autoscale(enable=True, axis='y', tight=False)\n",
    "ax.set_ylim(0, plt.ylim()[1])\n",
    "ax.yaxis.set_major_locator(matplotlib.ticker.MaxNLocator(nbins=10, steps=[1, 2, 5, 10], integer=True))\n",
    "ax.xaxis.set_major_locator(matplotlib.ticker.LinearLocator(len(names)))\n",
    "ax.yaxis.set_minor_locator(matplotlib.ticker.AutoMinorLocator())\n",
    "ax.xaxis.set_ticklabels(names, rotation=90)\n",
    "ax.xaxis.set_ticks(np.arange(0, len(names)) + 0.3 / 2.0)"
   ]
  },
  {
   "cell_type": "code",
   "execution_count": 8,
   "metadata": {
    "collapsed": false
   },
   "outputs": [],
   "source": [
    "# construct a separate BAM for each of these putative haplotypes\n",
    "# reshape to be by-reference\n",
    "by_reference = defaultdict(list)\n",
    "for x in by_avg.itervalues():\n",
    "    for y in x:\n",
    "        by_reference[y.reference_name].append(y)\n",
    "\n",
    "        \n",
    "sh = pysam.Samfile('combined_scaffold_mapped.sam')\n",
    "for name, reads in by_reference.iteritems():\n",
    "    with pysam.Samfile(name + '.bam', 'wb', template=sh) as outf:\n",
    "        for x in reads:\n",
    "            outf.write(x)"
   ]
  },
  {
   "cell_type": "code",
   "execution_count": 9,
   "metadata": {
    "collapsed": false
   },
   "outputs": [
    {
     "name": "stderr",
     "output_type": "stream",
     "text": [
      "verbose: False\n",
      "out_file_for_raw_data: None\n",
      "numberOfSamples: None\n",
      "bedFile: None\n",
      "bamFilesList: ['A1.bam.sorted']\n",
      "ignoreDuplicates: False\n",
      "numberOfProcessors: 32\n",
      "samFlag_exclude: None\n",
      "save_data: False\n",
      "blackList: None\n",
      "stepSize: 5\n",
      "smoothLength: None\n",
      "center_read: False\n",
      "defaultFragmentLength: read length\n",
      "chrsToSkip: []\n",
      "region: None\n",
      "maxPairedFragmentLength: 1000\n",
      "samFlag_include: None\n",
      "binLength: 5\n",
      "blackListFileName: None\n",
      "minMappingQuality: None\n",
      "zerosToNans: False\n",
      "verbose: False\n",
      "out_file_for_raw_data: None\n",
      "numberOfSamples: None\n",
      "bedFile: None\n",
      "bamFilesList: ['B1.bam.sorted']\n",
      "ignoreDuplicates: False\n",
      "numberOfProcessors: 32\n",
      "samFlag_exclude: None\n",
      "save_data: False\n",
      "blackList: None\n",
      "stepSize: 5\n",
      "smoothLength: None\n",
      "center_read: False\n",
      "defaultFragmentLength: read length\n",
      "chrsToSkip: []\n",
      "region: None\n",
      "maxPairedFragmentLength: 1000\n",
      "samFlag_include: None\n",
      "binLength: 5\n",
      "blackListFileName: None\n",
      "minMappingQuality: None\n",
      "zerosToNans: False\n",
      "verbose: False\n",
      "out_file_for_raw_data: None\n",
      "numberOfSamples: None\n",
      "bedFile: None\n",
      "bamFilesList: ['C1.bam.sorted']\n",
      "ignoreDuplicates: False\n",
      "numberOfProcessors: 32\n",
      "samFlag_exclude: None\n",
      "save_data: False\n",
      "blackList: None\n",
      "stepSize: 5\n",
      "smoothLength: None\n",
      "center_read: False\n",
      "defaultFragmentLength: read length\n",
      "chrsToSkip: []\n",
      "region: None\n",
      "maxPairedFragmentLength: 1000\n",
      "samFlag_include: None\n",
      "binLength: 5\n",
      "blackListFileName: None\n",
      "minMappingQuality: None\n",
      "zerosToNans: False\n",
      "verbose: False\n",
      "out_file_for_raw_data: None\n",
      "numberOfSamples: None\n",
      "bedFile: None\n",
      "bamFilesList: ['D1.bam.sorted']\n",
      "ignoreDuplicates: False\n",
      "numberOfProcessors: 32\n",
      "samFlag_exclude: None\n",
      "save_data: False\n",
      "blackList: None\n",
      "stepSize: 5\n",
      "smoothLength: None\n",
      "center_read: False\n",
      "defaultFragmentLength: read length\n",
      "chrsToSkip: []\n",
      "region: None\n",
      "maxPairedFragmentLength: 1000\n",
      "samFlag_include: None\n",
      "binLength: 5\n",
      "blackListFileName: None\n",
      "minMappingQuality: None\n",
      "zerosToNans: False\n",
      "verbose: False\n",
      "out_file_for_raw_data: None\n",
      "numberOfSamples: None\n",
      "bedFile: None\n",
      "bamFilesList: ['N1.bam.sorted']\n",
      "ignoreDuplicates: False\n",
      "numberOfProcessors: 32\n",
      "samFlag_exclude: None\n",
      "save_data: False\n",
      "blackList: None\n",
      "stepSize: 5\n",
      "smoothLength: None\n",
      "center_read: False\n",
      "defaultFragmentLength: read length\n",
      "chrsToSkip: []\n",
      "region: None\n",
      "maxPairedFragmentLength: 1000\n",
      "samFlag_include: None\n",
      "binLength: 5\n",
      "blackListFileName: None\n",
      "minMappingQuality: None\n",
      "zerosToNans: False\n",
      "verbose: False\n",
      "out_file_for_raw_data: None\n",
      "numberOfSamples: None\n",
      "bedFile: None\n",
      "bamFilesList: ['A2.bam.sorted']\n",
      "ignoreDuplicates: False\n",
      "numberOfProcessors: 32\n",
      "samFlag_exclude: None\n",
      "save_data: False\n",
      "blackList: None\n",
      "stepSize: 5\n",
      "smoothLength: None\n",
      "center_read: False\n",
      "defaultFragmentLength: read length\n",
      "chrsToSkip: []\n",
      "region: None\n",
      "maxPairedFragmentLength: 1000\n",
      "samFlag_include: None\n",
      "binLength: 5\n",
      "blackListFileName: None\n",
      "minMappingQuality: None\n",
      "zerosToNans: False\n",
      "verbose: False\n",
      "out_file_for_raw_data: None\n",
      "numberOfSamples: None\n",
      "bedFile: None\n",
      "bamFilesList: ['B2.bam.sorted']\n",
      "ignoreDuplicates: False\n",
      "numberOfProcessors: 32\n",
      "samFlag_exclude: None\n",
      "save_data: False\n",
      "blackList: None\n",
      "stepSize: 5\n",
      "smoothLength: None\n",
      "center_read: False\n",
      "defaultFragmentLength: read length\n",
      "chrsToSkip: []\n",
      "region: None\n",
      "maxPairedFragmentLength: 1000\n",
      "samFlag_include: None\n",
      "binLength: 5\n",
      "blackListFileName: None\n",
      "minMappingQuality: None\n",
      "zerosToNans: False\n",
      "verbose: False\n",
      "out_file_for_raw_data: None\n",
      "numberOfSamples: None\n",
      "bedFile: None\n",
      "bamFilesList: ['C2.bam.sorted']\n",
      "ignoreDuplicates: False\n",
      "numberOfProcessors: 32\n",
      "samFlag_exclude: None\n",
      "save_data: False\n",
      "blackList: None\n",
      "stepSize: 5\n",
      "smoothLength: None\n",
      "center_read: False\n",
      "defaultFragmentLength: read length\n",
      "chrsToSkip: []\n",
      "region: None\n",
      "maxPairedFragmentLength: 1000\n",
      "samFlag_include: None\n",
      "binLength: 5\n",
      "blackListFileName: None\n",
      "minMappingQuality: None\n",
      "zerosToNans: False\n",
      "verbose: False\n",
      "out_file_for_raw_data: None\n",
      "numberOfSamples: None\n",
      "bedFile: None\n",
      "bamFilesList: ['D2.bam.sorted']\n",
      "ignoreDuplicates: False\n",
      "numberOfProcessors: 32\n",
      "samFlag_exclude: None\n",
      "save_data: False\n",
      "blackList: None\n",
      "stepSize: 5\n",
      "smoothLength: None\n",
      "center_read: False\n",
      "defaultFragmentLength: read length\n",
      "chrsToSkip: []\n",
      "region: None\n",
      "maxPairedFragmentLength: 1000\n",
      "samFlag_include: None\n",
      "binLength: 5\n",
      "blackListFileName: None\n",
      "minMappingQuality: None\n",
      "zerosToNans: False\n",
      "verbose: False\n",
      "out_file_for_raw_data: None\n",
      "numberOfSamples: None\n",
      "bedFile: None\n",
      "bamFilesList: ['N2.bam.sorted']\n",
      "ignoreDuplicates: False\n",
      "numberOfProcessors: 32\n",
      "samFlag_exclude: None\n",
      "save_data: False\n",
      "blackList: None\n",
      "stepSize: 5\n",
      "smoothLength: None\n",
      "center_read: False\n",
      "defaultFragmentLength: read length\n",
      "chrsToSkip: []\n",
      "region: None\n",
      "maxPairedFragmentLength: 1000\n",
      "samFlag_include: None\n",
      "binLength: 5\n",
      "blackListFileName: None\n",
      "minMappingQuality: None\n",
      "zerosToNans: False\n"
     ]
    }
   ],
   "source": [
    "%%bash\n",
    "# generate a coverage plot\n",
    "for f in *{1,2}.bam; do\n",
    "    sambamba sort -o ${f}.sorted ${f}\n",
    "    samtools index ${f}.sorted\n",
    "    bamCoverage -b ${f}.sorted -o ${f}.bw --binSize 5\n",
    "done"
   ]
  },
  {
   "cell_type": "code",
   "execution_count": null,
   "metadata": {
    "collapsed": true
   },
   "outputs": [],
   "source": []
  },
  {
   "cell_type": "code",
   "execution_count": 12,
   "metadata": {
    "collapsed": true
   },
   "outputs": [],
   "source": [
    "# create a new hub\n",
    "\n",
    "hub_str = '''hub {0}_H9_comparison\n",
    "shortLabel {1} H9 comparison\n",
    "longLabel {1} H9 comparison\n",
    "genomesFile genomes.txt\n",
    "email NoEmail\n",
    "\n",
    "'''\n",
    "\n",
    "genomes_str = '''genome H9_assemblies\n",
    "twoBitPath H9/H9.2bit\n",
    "trackDb H9/trackDb.txt\n",
    "organism H9\n",
    "description H9 wildtype comparison\n",
    "scientificName H9\n",
    "defaultPos A1:1-10000000\n",
    "\n",
    "'''\n",
    "\n",
    "composite = '''track {0}\n",
    "compositeTrack on\n",
    "shortLabel {0} barcode assignments\n",
    "longLabel {0} barcode assignments\n",
    "type bigWig\n",
    "visibility full\n",
    "\n",
    "'''\n",
    "\n",
    "template = '''track {1}_{0}\n",
    "type bigWig\n",
    "parent {1}\n",
    "shortLabel {0}\n",
    "longLabel {0}\n",
    "visibility full\n",
    "bigDataUrl {1}_{2}\n",
    "\n",
    "'''\n",
    "\n",
    "from tools.fileOps import *\n",
    "ensure_dir(os.path.join(hub_path, 'consensus'))\n",
    "\n",
    "with open(os.path.join(hub_path, 'hub.txt'), 'w') as outf:\n",
    "    outf.write(hub_str.format(genome))\n",
    "\n",
    "with open(os.path.join(hub_path, 'consensus', 'trackDb.txt'), 'a') as outf:\n",
    "    bws = sorted([x for x in os.listdir('.') if x.endswith('bw')])\n",
    "    outf.write(composite.format(genome))\n",
    "    for f in bws:\n",
    "        t = f.split('.')[0]\n",
    "        outf.write(template.format(t, genome, f))\n",
    "        os.link(f, os.path.join(hub_path, 'consensus', '{}_{}'.format(genome, f)))"
   ]
  },
  {
   "cell_type": "code",
   "execution_count": null,
   "metadata": {
    "collapsed": true
   },
   "outputs": [],
   "source": []
  }
 ],
 "metadata": {
  "kernelspec": {
   "display_name": "Python [Root]",
   "language": "python",
   "name": "Python [Root]"
  },
  "language_info": {
   "codemirror_mode": {
    "name": "ipython",
    "version": 2
   },
   "file_extension": ".py",
   "mimetype": "text/x-python",
   "name": "python",
   "nbconvert_exporter": "python",
   "pygments_lexer": "ipython2",
   "version": "2.7.11"
  }
 },
 "nbformat": 4,
 "nbformat_minor": 0
}
