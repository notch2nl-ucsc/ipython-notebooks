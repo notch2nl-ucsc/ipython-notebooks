{
 "cells": [
  {
   "cell_type": "code",
   "execution_count": 45,
   "metadata": {
    "collapsed": true
   },
   "outputs": [],
   "source": [
    "from tools.intervals import *\n",
    "import pysam\n",
    "from collections import defaultdict"
   ]
  },
  {
   "cell_type": "code",
   "execution_count": 19,
   "metadata": {
    "collapsed": true
   },
   "outputs": [],
   "source": [
    "s = list(pysam.Samfile('/hive/users/ifiddes/notch2nl_berkeley_data/E2del19N_E2del68_combined_longranger/E2del68_E2del19N_combined/new-assembly/reassemble_c9_k2/results/AssembleBinsStep/c0/c0.C_mapped.bam'))"
   ]
  },
  {
   "cell_type": "code",
   "execution_count": 70,
   "metadata": {
    "collapsed": true
   },
   "outputs": [],
   "source": [
    "intervals = [ChromosomeInterval(*x.split()[:-1]) for x in open('n2nl-C.bed')]"
   ]
  },
  {
   "cell_type": "code",
   "execution_count": 73,
   "metadata": {
    "collapsed": false
   },
   "outputs": [],
   "source": [
    "results = defaultdict(list)\n",
    "for r in s:\n",
    "    if not r.is_secondary and not r.is_supplementary and not r.is_unmapped:\n",
    "        for i in intervals:\n",
    "            if r.reference_start <= i.start and r.reference_end >= i.stop:\n",
    "                read_positions, ref_positions = zip(*r.aligned_pairs)\n",
    "                start = read_positions[ref_positions.index(i.start)]\n",
    "                stop = read_positions[ref_positions.index(i.stop)]\n",
    "                results[i.strand].append(r.seq[start:stop])"
   ]
  },
  {
   "cell_type": "code",
   "execution_count": null,
   "metadata": {
    "collapsed": true
   },
   "outputs": [],
   "source": []
  }
 ],
 "metadata": {
  "kernelspec": {
   "display_name": "Python [Root]",
   "language": "python",
   "name": "Python [Root]"
  },
  "language_info": {
   "codemirror_mode": {
    "name": "ipython",
    "version": 2
   },
   "file_extension": ".py",
   "mimetype": "text/x-python",
   "name": "python",
   "nbconvert_exporter": "python",
   "pygments_lexer": "ipython2",
   "version": "2.7.11"
  }
 },
 "nbformat": 4,
 "nbformat_minor": 0
}
