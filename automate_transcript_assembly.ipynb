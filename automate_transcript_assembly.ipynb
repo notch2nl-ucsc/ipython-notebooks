{
 "cells": [
  {
   "cell_type": "code",
   "execution_count": 87,
   "metadata": {
    "collapsed": true
   },
   "outputs": [],
   "source": [
    "from tools.transcripts import *\n",
    "import pysam\n",
    "from tools.procOps import *\n",
    "from collections import *\n",
    "from tools.bio import *"
   ]
  },
  {
   "cell_type": "code",
   "execution_count": 26,
   "metadata": {
    "collapsed": true
   },
   "outputs": [],
   "source": [
    "recs = get_transcript_dict('notch2nl_hg38.bed')"
   ]
  },
  {
   "cell_type": "code",
   "execution_count": 123,
   "metadata": {
    "collapsed": false
   },
   "outputs": [],
   "source": [
    "def get_region(r, bam):\n",
    "    region = '{}:{}-{}'.format(r.chromosome, r.start + 1, r.stop)\n",
    "    cmd = [['samtools', 'mpileup', '-r', region, '-uv', '-f', \n",
    "           '/hive/groups/recon/10x_genomics/references/refdata-hsapiens-hg38/fasta/genome.fa', bam],\n",
    "           ['grep', '-v', '\"#\"'],\n",
    "           ['awk', '{printf $4}']]\n",
    "    return call_proc_lines(cmd)[0].split('REF')[1]\n",
    "\n",
    "full_results = {}\n",
    "for p in xrange(4):\n",
    "    bam = 'c{0}/c{0}.hg38.bam'.format(p)\n",
    "    results = defaultdict(dict)\n",
    "    for para, para_tx in recs.iteritems():\n",
    "        if para_tx.strand == '-':\n",
    "            exons = para_tx.exon_intervals[::-1]\n",
    "        else:\n",
    "            exons = para_tx.exon_intervals\n",
    "        for i, exon in enumerate(exons, 1):\n",
    "            s = get_region(exon, bam)\n",
    "            if para_tx.strand == '-':\n",
    "                s = reverse_complement(s)\n",
    "            results[para][i] = s\n",
    "    # reshape to produce a list by-exon\n",
    "    by_exon = defaultdict(list)\n",
    "    for para in results:\n",
    "        for i, s in results[para].iteritems():\n",
    "            if len(s) > 0:\n",
    "                by_exon[i].append(s)\n",
    "    assert all(len(x) == 1 for x in by_exon.itervalues())\n",
    "    full_results[p] = ''.join(by_exon[i][0] for i in range(1, 6, 1))"
   ]
  },
  {
   "cell_type": "code",
   "execution_count": 124,
   "metadata": {
    "collapsed": true
   },
   "outputs": [],
   "source": [
    "with open('transcripts.fa', 'w') as outf:\n",
    "    for c, s in full_results.iteritems():\n",
    "        write_fasta(outf, 'c{}-assembly'.format(c), s)"
   ]
  },
  {
   "cell_type": "code",
   "execution_count": null,
   "metadata": {
    "collapsed": true
   },
   "outputs": [],
   "source": []
  }
 ],
 "metadata": {
  "kernelspec": {
   "display_name": "Python [Root]",
   "language": "python",
   "name": "Python [Root]"
  },
  "language_info": {
   "codemirror_mode": {
    "name": "ipython",
    "version": 2
   },
   "file_extension": ".py",
   "mimetype": "text/x-python",
   "name": "python",
   "nbconvert_exporter": "python",
   "pygments_lexer": "ipython2",
   "version": "2.7.11"
  }
 },
 "nbformat": 4,
 "nbformat_minor": 0
}
