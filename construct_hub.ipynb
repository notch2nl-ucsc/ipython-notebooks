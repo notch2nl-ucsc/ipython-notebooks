{
 "cells": [
  {
   "cell_type": "code",
   "execution_count": 264,
   "metadata": {
    "collapsed": true
   },
   "outputs": [],
   "source": [
    "import pysam\n",
    "from collections import *\n",
    "from tools.intervals import *\n",
    "from tools.transcripts import *\n",
    "from tools.fileOps import *\n",
    "from tools.bio import *\n",
    "from tools.psl import *\n",
    "from tools.procOps import *\n",
    "from orderedset import OrderedSet\n",
    "import itertools"
   ]
  },
  {
   "cell_type": "code",
   "execution_count": 265,
   "metadata": {
    "collapsed": true
   },
   "outputs": [],
   "source": [
    "fq_with_barcodes = '/hive/users/ifiddes/notch2nl_berkeley_data/E2del19N_E2del68_combined_longranger/E2del68_E2del19N_combined/E2del68_E2del19N_combined.sorted.fastq'"
   ]
  },
  {
   "cell_type": "code",
   "execution_count": 266,
   "metadata": {
    "collapsed": true
   },
   "outputs": [],
   "source": [
    "bcode_map = {}\n",
    "for x in open(fq_with_barcodes):\n",
    "    if x.startswith('@'):\n",
    "        n, t = x.split()\n",
    "        n = n[1:-2]  # remove identifier\n",
    "        bcode_map[n] = t"
   ]
  },
  {
   "cell_type": "code",
   "execution_count": 269,
   "metadata": {
    "collapsed": false
   },
   "outputs": [],
   "source": [
    "# for each bam, organize reads by barcode\n",
    "reads_by_bcode = defaultdict(lambda: defaultdict(list))\n",
    "for n in ['A1', 'A2', 'B1', 'B2', 'C1', 'C2', 'D1', 'D2', 'N1', 'N2']:\n",
    "    for rec in pysam.Samfile(os.path.join(n, n + '.binreads.bam')):\n",
    "        if rec.is_unmapped:\n",
    "            continue\n",
    "        bcode = bcode_map[rec.qname]\n",
    "        reads_by_bcode[n][bcode].append(rec)"
   ]
  },
  {
   "cell_type": "code",
   "execution_count": 270,
   "metadata": {
    "collapsed": false
   },
   "outputs": [],
   "source": [
    "# for each barcode, create a separate bam with a color wheel\n",
    "# construct a track hub with this\n",
    "\n",
    "composite_template = '''track {}_linked_bams\n",
    "compositeTrack on\n",
    "allButtonPair on\n",
    "type bam\n",
    "bamColorMode tag \n",
    "indelQueryInsert on\n",
    "visibility hide\n",
    "shortLabel Barcode Reads\n",
    "longLabel Barcode Reads\n",
    "\n",
    "'''\n",
    "\n",
    "track_template = '''    track {0}_{1}\n",
    "    priority {1}\n",
    "    bigDataUrl {2}\n",
    "    parent {0}_linked_bams\n",
    "    type bam\n",
    "    bamColorMode tag \n",
    "    indelQueryInsert on\n",
    "    visibility hide\n",
    "\n",
    "'''\n",
    "\n",
    "color_cycle = ['138,23,15', '138,115,15', '69,138,15', '15,138,53', '15,131,138', '15,39,138', '84,15,138', '138,15,100']\n",
    "color_iter = itertools.cycle(color_cycle)\n",
    "for n in reads_by_bcode:\n",
    "    cmd = ['mkdir', '-p', '{}/linked_bams'.format(n)]\n",
    "    run_proc(cmd)\n",
    "    with open('{}/linked_bams.txt'.format(n), 'w') as track_db:\n",
    "        track_db.write(composite_template.format(n))\n",
    "        for i, (color, (bcode, recs)) in enumerate(zip(*[color_iter, reads_by_bcode[n].iteritems()])):\n",
    "            out_bam = '{}/linked_bams/{}.bam'.format(n, bcode)\n",
    "            trackdb_path = out_bam.split('/', 1)[1]\n",
    "            track_db.write(track_template.format(n, i + 1000, trackdb_path))\n",
    "            in_bam = os.path.join(n, n + '.binreads.bam')\n",
    "            with pysam.Samfile(in_bam) as fh:\n",
    "                with pysam.Samfile(out_bam, 'wb', template=fh) as outf:\n",
    "                    for rec in recs:\n",
    "                        rec.set_tag('YC', color)\n",
    "                        outf.write(rec)"
   ]
  },
  {
   "cell_type": "code",
   "execution_count": 271,
   "metadata": {
    "collapsed": false
   },
   "outputs": [],
   "source": [
    "# construct a bigBed of the transcript locations\n",
    "# also construct the required 2bit\n",
    "base_dir = '/hive/users/ifiddes/notch2nl_berkeley_data/E2del19N_E2del68_combined_longranger/E2del68_E2del19N_combined/new-assembly/hg38_scaffolded_contigs'\n",
    "\n",
    "transcripts = Fasta(os.path.join(base_dir, 'transcripts.fa'))\n",
    "\n",
    "for n in ['A1', 'A2', 'B1', 'B2', 'C1', 'C2', 'D1', 'D2', 'N1', 'N2']:\n",
    "    fa = os.path.join(base_dir, '{}.fa'.format(n))\n",
    "    two_bit = '{0}/{0}.2bit'.format(n)\n",
    "    sizes = '{0}/{0}.chrom.sizes'.format(n)\n",
    "    cmd = ['faToTwoBit', fa, two_bit]\n",
    "    run_proc(cmd)\n",
    "    cmd = ['twoBitInfo', two_bit, sizes]\n",
    "    run_proc(cmd)\n",
    "    if n not in ['N1', 'N2']:\n",
    "        tx_name = 'NOTCH2NL-' + '-'.join(n)\n",
    "    else:\n",
    "        tx_name = 'NOTCH2-{}'.format(n[-1])\n",
    "    tx = transcripts[tx_name]\n",
    "    with TemporaryFilePath() as tmp_fa, TemporaryFilePath() as tmp_psl, TemporaryFilePath() as tmp_bed:\n",
    "        write_fasta(tmp_fa, tx_name, str(tx))\n",
    "        cmd = ['blat', '-noHead', fa, tmp_fa, tmp_psl]\n",
    "        run_proc(cmd)\n",
    "        cmd = ['pslToBed', tmp_psl, tmp_bed]\n",
    "        run_proc(cmd)\n",
    "        txs = list(transcript_iterator(tmp_bed))\n",
    "        best = sorted(txs, key=len)[-1]\n",
    "        print_row(tmp_bed, best.get_bed())\n",
    "        cmd = ['bedToBigBed', tmp_bed, sizes, '{}/transcript.bb'.format(n)]\n",
    "        run_proc(cmd)"
   ]
  },
  {
   "cell_type": "code",
   "execution_count": 272,
   "metadata": {
    "collapsed": true
   },
   "outputs": [],
   "source": [
    "# construct the coverage tracks\n",
    "for n in ['A1', 'A2', 'B1', 'B2', 'C1', 'C2', 'D1', 'D2', 'N1', 'N2']:\n",
    "    bam = os.path.join(n, n + '.binreads.bam')\n",
    "    bw = os.path.join(n, n + '.binreads.bw')\n",
    "    cmd = ['bamCoverage', '-b', bam, '--normalizeUsingRPKM', '--numberOfProcessors', '4',\n",
    "          '-o', bw]\n",
    "    run_proc(cmd)"
   ]
  },
  {
   "cell_type": "code",
   "execution_count": 273,
   "metadata": {
    "collapsed": true
   },
   "outputs": [],
   "source": [
    "# construct the hub.txt and the genomes.txt file\n",
    "hub_str = '''hub H9 ESC\n",
    "shortLabel H9 ESC NOTCH2NL Assembly\n",
    "longLabel H9 ESC NOTCH2NL Assembly\n",
    "genomesFile genomes.txt\n",
    "email NoEmail\n",
    "\n",
    "'''\n",
    "\n",
    "with open('hub.txt', 'w') as outf:\n",
    "    outf.write(hub_str)\n",
    "\n",
    "genomes_template = '''genome {0}\n",
    "twoBitPath {0}/{0}.2bit\n",
    "trackDb {0}/trackDb.txt\n",
    "organism {0}\n",
    "description {0}\n",
    "scientificName {0}\n",
    "defaultPos {0}:1-100000\n",
    "\n",
    "'''\n",
    "\n",
    "with open('genomes.txt', 'w') as outf:\n",
    "    for n in ['A1', 'A2', 'B1', 'B2', 'C1', 'C2', 'D1', 'D2', 'N1', 'N2']:\n",
    "        outf.write(genomes_template.format(n))"
   ]
  },
  {
   "cell_type": "code",
   "execution_count": 274,
   "metadata": {
    "collapsed": true
   },
   "outputs": [],
   "source": [
    "# construct the trackDb.txt entries\n",
    "\n",
    "transcript_template = '''track {0}_tx\n",
    "type bigBed 12\n",
    "visibility pack\n",
    "priority 1\n",
    "bigDataUrl transcript.bb\n",
    "shortLabel NOTCH2NL-{0}\n",
    "longLabel NOTCH2NL-{0}\n",
    "\n",
    "'''\n",
    "\n",
    "bam_template = '''track {0}_binreads\n",
    "type bam\n",
    "visibility hide\n",
    "priority 2\n",
    "bigDataUrl {0}.binreads.bam\n",
    "indelQueryInsert on\n",
    "pairEndsByName .\n",
    "shortLabel 10x bin reads\n",
    "longLabel 10x bin reads\n",
    "\n",
    "'''\n",
    "\n",
    "bw_template = '''track {0}_bw\n",
    "type bigWig\n",
    "visibility full\n",
    "shortLabel 10x bin reads coverage\n",
    "longLabel 10x bin reads coverage\n",
    "priority 3\n",
    "bigDataUrl {0}.binreads.bw\n",
    "alwaysZero on\n",
    "smoothingWindow 10\n",
    "windowingFunction mean\n",
    "autoScale on\n",
    "\n",
    "'''\n",
    "\n",
    "\n",
    "for n in ['A1', 'A2', 'B1', 'B2', 'C1', 'C2', 'D1', 'D2', 'N1', 'N2']:\n",
    "    with open(os.path.join(n, 'trackDb.txt'), 'w') as outf:\n",
    "        outf.write('include linked_bams.txt\\n')\n",
    "        outf.write(transcript_template.format(n))\n",
    "        outf.write(bam_template.format(n))\n",
    "        outf.write(bw_template.format(n))"
   ]
  },
  {
   "cell_type": "code",
   "execution_count": 275,
   "metadata": {
    "collapsed": true
   },
   "outputs": [],
   "source": [
    "# index the bams\n",
    "! find . -name '*bam' | xargs -n 1 -P 20 samtools index"
   ]
  },
  {
   "cell_type": "code",
   "execution_count": null,
   "metadata": {
    "collapsed": true
   },
   "outputs": [],
   "source": []
  }
 ],
 "metadata": {
  "kernelspec": {
   "display_name": "Python [Root]",
   "language": "python",
   "name": "Python [Root]"
  },
  "language_info": {
   "codemirror_mode": {
    "name": "ipython",
    "version": 2
   },
   "file_extension": ".py",
   "mimetype": "text/x-python",
   "name": "python",
   "nbconvert_exporter": "python",
   "pygments_lexer": "ipython2",
   "version": "2.7.11"
  }
 },
 "nbformat": 4,
 "nbformat_minor": 0
}
