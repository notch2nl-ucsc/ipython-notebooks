{
 "cells": [
  {
   "cell_type": "code",
   "execution_count": 6,
   "metadata": {
    "collapsed": true
   },
   "outputs": [],
   "source": [
    "import pysam\n",
    "from tools.intervals import *\n",
    "from collections import *"
   ]
  },
  {
   "cell_type": "code",
   "execution_count": 10,
   "metadata": {
    "collapsed": false
   },
   "outputs": [],
   "source": [
    "bam = 'A1.consensus.bam'\n",
    "intervals = []\n",
    "for x in open('/hive/users/ifiddes/notch2nl_berkeley_data/new_consensus/NOTCH2NL-consensus-exons.bed'):\n",
    "    x = x.split()\n",
    "    intervals.append(ChromosomeInterval(x[0], int(x[1]), int(x[2]), '+'))"
   ]
  },
  {
   "cell_type": "code",
   "execution_count": 53,
   "metadata": {
    "collapsed": false
   },
   "outputs": [],
   "source": [
    "from glob import glob\n",
    "bams = glob('*/*bam')"
   ]
  },
  {
   "cell_type": "code",
   "execution_count": 55,
   "metadata": {
    "collapsed": true
   },
   "outputs": [],
   "source": [
    "txs = {}\n",
    "for b in bams:\n",
    "    nucs = {\"A\", \"T\", \"G\", \"C\", \"a\", \"t\", \"g\", \"c\"}\n",
    "    exons = []\n",
    "    for i in intervals:\n",
    "        bases = []\n",
    "        pileup = pysam.mpileup('-r', '{}:{}-{}'.format(i.chromosome, i.start, i.stop - 1), b)\n",
    "        pileup = pileup.split('\\n')\n",
    "        for col in pileup:\n",
    "            col = col.split()\n",
    "            if len(col) != 6:\n",
    "                continue\n",
    "            col_bases = Counter(x.upper() for x in col[4] if x in nucs)\n",
    "            if len(col_bases) == 0:\n",
    "                continue\n",
    "            bases.append(col_bases.most_common(1)[0][0])\n",
    "        exons.append(bases)\n",
    "    name = os.path.basename(b).split('.')[0]\n",
    "    txs[name] = ''.join([''.join(x) for x in exons])"
   ]
  },
  {
   "cell_type": "code",
   "execution_count": 57,
   "metadata": {
    "collapsed": true
   },
   "outputs": [],
   "source": [
    "from tools.bio import *\n",
    "with open('h9-transcript-assemblies.fa', 'w') as outf:\n",
    "    for name, seq in txs.iteritems():\n",
    "        write_fasta(outf, name, seq)"
   ]
  },
  {
   "cell_type": "code",
   "execution_count": 56,
   "metadata": {
    "collapsed": false
   },
   "outputs": [
    {
     "name": "stdout",
     "output_type": "stream",
     "text": [
      "10\n"
     ]
    }
   ],
   "source": [
    "print len(txs)"
   ]
  },
  {
   "cell_type": "code",
   "execution_count": null,
   "metadata": {
    "collapsed": true
   },
   "outputs": [],
   "source": []
  }
 ],
 "metadata": {
  "anaconda-cloud": {},
  "kernelspec": {
   "display_name": "Python [conda root]",
   "language": "python",
   "name": "conda-root-py"
  },
  "language_info": {
   "codemirror_mode": {
    "name": "ipython",
    "version": 2
   },
   "file_extension": ".py",
   "mimetype": "text/x-python",
   "name": "python",
   "nbconvert_exporter": "python",
   "pygments_lexer": "ipython2",
   "version": "2.7.12"
  }
 },
 "nbformat": 4,
 "nbformat_minor": 1
}
