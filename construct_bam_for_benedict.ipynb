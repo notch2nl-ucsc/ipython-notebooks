{
 "cells": [
  {
   "cell_type": "code",
   "execution_count": 18,
   "metadata": {
    "collapsed": false
   },
   "outputs": [],
   "source": [
    "# pull down A1, A2 readnames\n",
    "import pysam\n",
    "a1_names = {x.qname for x in pysam.Samfile('A1.binreads.bam')}\n",
    "a2_names = {x.qname for x in pysam.Samfile('A2.binreads.bam')}"
   ]
  },
  {
   "cell_type": "code",
   "execution_count": 25,
   "metadata": {
    "collapsed": true
   },
   "outputs": [],
   "source": [
    "# use these names to subset the original FASTQs producing correctly paired reads\n",
    "# also keep the barcodes\n",
    "tagged_fq = '/hive/users/ifiddes/notch2nl_berkeley_data/E2del19N_E2del68_combined_longranger/E2del68_E2del19N_combined/E2del68_E2del19N_combined.sorted.fastq'\n",
    "from collections import *\n",
    "bcode_map = {}\n",
    "a1_reads = defaultdict(list)\n",
    "a2_reads = defaultdict(list)\n",
    "import sys\n",
    "sys.path.append('/hive/users/ifiddes/comparativeAnnotator/')\n",
    "from sonLib.bioio import *\n",
    "for name, seq, qual in fastqRead(tagged_fq):\n",
    "    base_name, bcode = name.split()\n",
    "    base_name = base_name[:-2]\n",
    "    bcode_map[base_name] = bcode\n",
    "    if base_name in a1_names:\n",
    "        a1_reads[base_name].append([name, seq, qual])\n",
    "    elif base_name in a2_names:\n",
    "        a2_reads[base_name].append([name, seq, qual])"
   ]
  },
  {
   "cell_type": "code",
   "execution_count": 29,
   "metadata": {
    "collapsed": true
   },
   "outputs": [],
   "source": [
    "# construct a fastq for each\n",
    "with open('A1.fastq', 'w') as outf:\n",
    "    for p in a1_reads.itervalues():\n",
    "        if len(p) != 2:\n",
    "            continue\n",
    "        for name, seq, qual in p:\n",
    "            fastqWrite(outf, name, seq, qual)\n",
    "with open('A2.fastq', 'w') as outf:\n",
    "    for p in a2_reads.itervalues():\n",
    "        if len(p) != 2:\n",
    "            continue\n",
    "        for name, seq, qual in p:\n",
    "            fastqWrite(outf, name, seq, qual)"
   ]
  },
  {
   "cell_type": "code",
   "execution_count": 30,
   "metadata": {
    "collapsed": false
   },
   "outputs": [
    {
     "name": "stdout",
     "output_type": "stream",
     "text": [
      "[M::bwa_idx_load_from_disk] read 0 ALT contigs\n",
      "[M::process] read 573478 sequences (80000181 bp)...\n",
      "[M::process] 0 single-end sequences; 573478 paired-end sequences\n",
      "[M::process] read 207504 sequences (28946808 bp)...\n",
      "[M::mem_pestat] # candidate unique pairs for (FF, FR, RF, RR): (2927, 135092, 99916, 2672)\n",
      "[M::mem_pestat] analyzing insert size distribution for orientation FF...\n",
      "[M::mem_pestat] (25, 50, 75) percentile: (181, 298, 493)\n",
      "[M::mem_pestat] low and high boundaries for computing mean and std.dev: (1, 1117)\n",
      "[M::mem_pestat] mean and std.dev: (356.25, 244.52)\n",
      "[M::mem_pestat] low and high boundaries for proper pairs: (1, 1429)\n",
      "[M::mem_pestat] analyzing insert size distribution for orientation FR...\n",
      "[M::mem_pestat] (25, 50, 75) percentile: (272, 371, 495)\n",
      "[M::mem_pestat] low and high boundaries for computing mean and std.dev: (1, 941)\n",
      "[M::mem_pestat] mean and std.dev: (376.05, 193.48)\n",
      "[M::mem_pestat] low and high boundaries for proper pairs: (1, 1164)\n",
      "[M::mem_pestat] analyzing insert size distribution for orientation RF...\n",
      "[M::mem_pestat] (25, 50, 75) percentile: (73, 148, 263)\n",
      "[M::mem_pestat] low and high boundaries for computing mean and std.dev: (1, 643)\n",
      "[M::mem_pestat] mean and std.dev: (178.59, 137.64)\n",
      "[M::mem_pestat] low and high boundaries for proper pairs: (1, 833)\n",
      "[M::mem_pestat] analyzing insert size distribution for orientation RR...\n",
      "[M::mem_pestat] (25, 50, 75) percentile: (180, 295, 500)\n",
      "[M::mem_pestat] low and high boundaries for computing mean and std.dev: (1, 1140)\n",
      "[M::mem_pestat] mean and std.dev: (358.19, 253.52)\n",
      "[M::mem_pestat] low and high boundaries for proper pairs: (1, 1460)\n",
      "[M::mem_pestat] skip orientation FF\n",
      "[M::mem_pestat] skip orientation RR\n",
      "[M::mem_process_seqs] Processed 573478 reads in 96.588 CPU sec, 12.171 real sec\n",
      "[M::process] 0 single-end sequences; 207504 paired-end sequences\n",
      "[M::mem_pestat] # candidate unique pairs for (FF, FR, RF, RR): (1110, 49271, 36854, 946)\n",
      "[M::mem_pestat] analyzing insert size distribution for orientation FF...\n",
      "[M::mem_pestat] (25, 50, 75) percentile: (193, 291, 480)\n",
      "[M::mem_pestat] low and high boundaries for computing mean and std.dev: (1, 1054)\n",
      "[M::mem_pestat] mean and std.dev: (343.39, 230.21)\n",
      "[M::mem_pestat] low and high boundaries for proper pairs: (1, 1341)\n",
      "[M::mem_pestat] analyzing insert size distribution for orientation FR...\n",
      "[M::mem_pestat] (25, 50, 75) percentile: (269, 368, 494)\n",
      "[M::mem_pestat] low and high boundaries for computing mean and std.dev: (1, 944)\n",
      "[M::mem_pestat] mean and std.dev: (372.95, 195.61)\n",
      "[M::mem_pestat] low and high boundaries for proper pairs: (1, 1169)\n",
      "[M::mem_pestat] analyzing insert size distribution for orientation RF...\n",
      "[M::mem_pestat] (25, 50, 75) percentile: (74, 148, 261)\n",
      "[M::mem_pestat] low and high boundaries for computing mean and std.dev: (1, 635)\n",
      "[M::mem_pestat] mean and std.dev: (177.32, 135.64)\n",
      "[M::mem_pestat] low and high boundaries for proper pairs: (1, 822)\n",
      "[M::mem_pestat] analyzing insert size distribution for orientation RR...\n",
      "[M::mem_pestat] (25, 50, 75) percentile: (171, 280, 509)\n",
      "[M::mem_pestat] low and high boundaries for computing mean and std.dev: (1, 1185)\n",
      "[M::mem_pestat] mean and std.dev: (354.52, 263.20)\n",
      "[M::mem_pestat] low and high boundaries for proper pairs: (1, 1523)\n",
      "[M::mem_pestat] skip orientation FF\n",
      "[M::mem_pestat] skip orientation RR\n",
      "[M::mem_process_seqs] Processed 207504 reads in 34.967 CPU sec, 4.390 real sec\n",
      "[main] Version: 0.7.12-r1044\n",
      "[main] CMD: bwa mem -t 8 -p /hive/users/ifiddes/notch2nl_berkeley_data/new_consensus/extended_alignment_consensus.fa A_combined.fastq\n",
      "[main] Real time: 35.797 sec; CPU: 133.704 sec\n"
     ]
    }
   ],
   "source": [
    "consensus = '/hive/users/ifiddes/notch2nl_berkeley_data/new_consensus/extended_alignment_consensus.fa'\n",
    "!cat A1.fastq A2.fastq > A_combined.fastq\n",
    "!bwa mem -t 8 -p {consensus} A_combined.fastq | samtools view -b - | sambamba sort -o A_consensus_mapped.bam /dev/stdin"
   ]
  },
  {
   "cell_type": "code",
   "execution_count": 35,
   "metadata": {
    "collapsed": false
   },
   "outputs": [],
   "source": [
    "# re-add the BX tags\n",
    "sh = pysam.Samfile('A_consensus_mapped.bam')\n",
    "with pysam.Samfile('A_consensus_mapped.tagged.bam', 'wb', template=sh) as outf:\n",
    "    for x in sh:\n",
    "        name = x.qname\n",
    "        if name in a1_names:\n",
    "            truth = '0'\n",
    "        elif name in a2_names:\n",
    "            truth = '1'\n",
    "        else:\n",
    "            assert False\n",
    "        bcode = bcode_map[name]\n",
    "        x.set_tag('TR', truth)\n",
    "        x.set_tag('BX', bcode)\n",
    "        outf.write(x)"
   ]
  },
  {
   "cell_type": "code",
   "execution_count": null,
   "metadata": {
    "collapsed": true
   },
   "outputs": [],
   "source": []
  }
 ],
 "metadata": {
  "kernelspec": {
   "display_name": "Python [Root]",
   "language": "python",
   "name": "Python [Root]"
  },
  "language_info": {
   "codemirror_mode": {
    "name": "ipython",
    "version": 2
   },
   "file_extension": ".py",
   "mimetype": "text/x-python",
   "name": "python",
   "nbconvert_exporter": "python",
   "pygments_lexer": "ipython2",
   "version": "2.7.11"
  }
 },
 "nbformat": 4,
 "nbformat_minor": 0
}
