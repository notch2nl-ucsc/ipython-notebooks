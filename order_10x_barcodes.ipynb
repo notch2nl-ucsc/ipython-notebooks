{
 "cells": [
  {
   "cell_type": "code",
   "execution_count": 34,
   "metadata": {
    "collapsed": true
   },
   "outputs": [],
   "source": [
    "# create BED-like entries of the linear ordering of phased barcodes in the original 10x alignment\n",
    "import pysam\n",
    "import cPickle as pickle\n",
    "bam = '/hive/users/ifiddes/notch2nl_berkeley_data/E2del68/outs/phased_possorted_bam.bam'"
   ]
  },
  {
   "cell_type": "code",
   "execution_count": 13,
   "metadata": {
    "collapsed": true
   },
   "outputs": [],
   "source": [
    "bins = pickle.load(open('/hive/users/ifiddes/notch2nl_berkeley_data/E2del68/full-assembly/working/PhaseBarcodesStep/bins/clusters.p'))"
   ]
  },
  {
   "cell_type": "code",
   "execution_count": 14,
   "metadata": {
    "collapsed": true
   },
   "outputs": [],
   "source": [
    "ab_bins = [bins[1], bins[6], bins[7], bins[8]]"
   ]
  },
  {
   "cell_type": "code",
   "execution_count": 17,
   "metadata": {
    "collapsed": true
   },
   "outputs": [],
   "source": [
    "all_barcodes = set.union(*ab_bins)\n",
    "barcode_dict = {1: bins[1], 6: bins[6], 7: bins[7], 8: bins[8]}"
   ]
  },
  {
   "cell_type": "code",
   "execution_count": 43,
   "metadata": {
    "collapsed": false
   },
   "outputs": [],
   "source": [
    "from collections import *\n",
    "phased_alignments = defaultdict(lambda: defaultdict(list))\n",
    "handle = pysam.Samfile(bam)\n",
    "for rec in handle.fetch('chr1', 119482766, 149972386):\n",
    "    if rec.is_supplementary or rec.is_secondary:\n",
    "        continue\n",
    "    try:\n",
    "        tag = rec.get_tag('BX')\n",
    "    except KeyError:\n",
    "        continue\n",
    "    if tag in all_barcodes:\n",
    "        for b, c in barcode_dict.iteritems():\n",
    "            if tag in c:\n",
    "                phased_alignments[b][tag].append(rec)"
   ]
  },
  {
   "cell_type": "code",
   "execution_count": 59,
   "metadata": {
    "collapsed": false
   },
   "outputs": [],
   "source": [
    "# convert each to BED12\n",
    "from tools.intervals import *\n",
    "from tools.transcripts import *\n",
    "phased_intervals = defaultdict(dict)\n",
    "for b in phased_alignments:\n",
    "    for tag, recs in phased_alignments[b].iteritems():\n",
    "        intervals = []\n",
    "        for rec in recs:\n",
    "            if rec.mapping_quality >= 60:\n",
    "                for block in rec.get_blocks():\n",
    "                    intervals.append(ChromosomeInterval('chr1', block[0], block[1], '+'))\n",
    "        intervals = gap_merge_intervals(intervals, 0)\n",
    "        if len(intervals) > 0:\n",
    "            phased_intervals[b][tag] = intervals_to_bed(intervals, name=tag)"
   ]
  },
  {
   "cell_type": "code",
   "execution_count": 60,
   "metadata": {
    "collapsed": true
   },
   "outputs": [],
   "source": [
    "with open('test.bed', 'w') as outf:\n",
    "    outf.write('track name=test visibility=squish\\n')\n",
    "    for rec in phased_intervals[b].itervalues():\n",
    "        outf.write('\\t'.join(rec.get_bed()) + '\\n')"
   ]
  },
  {
   "cell_type": "code",
   "execution_count": 48,
   "metadata": {
    "collapsed": false
   },
   "outputs": [
    {
     "data": {
      "image/png": "[encoded data removed]",
      "text/plain": [
       "<matplotlib.figure.Figure at 0x7fd59d1cc510>"
      ]
     },
     "metadata": {},
     "output_type": "display_data"
    }
   ],
   "source": [
    "%matplotlib inline\n",
    "import seaborn as sns\n",
    "import matplotlib.pyplot as plt\n",
    "fig, axes = plt.subplots(nrows=4)\n",
    "for i, b in enumerate(phased_alignments):\n",
    "    scores = []\n",
    "    for tag in phased_alignments[b]:\n",
    "        for rec in phased_alignments[b][tag]:\n",
    "            scores.append(rec.mapping_quality)\n",
    "    g = sns.distplot(scores, ax=axes[i], kde=False, norm_hist=False)\n",
    "    g.set_title(b)"
   ]
  },
  {
   "cell_type": "code",
   "execution_count": null,
   "metadata": {
    "collapsed": true
   },
   "outputs": [],
   "source": []
  }
 ],
 "metadata": {
  "kernelspec": {
   "display_name": "Python [Root]",
   "language": "python",
   "name": "Python [Root]"
  },
  "language_info": {
   "codemirror_mode": {
    "name": "ipython",
    "version": 2
   },
   "file_extension": ".py",
   "mimetype": "text/x-python",
   "name": "python",
   "nbconvert_exporter": "python",
   "pygments_lexer": "ipython2",
   "version": "2.7.11"
  }
 },
 "nbformat": 4,
 "nbformat_minor": 0
}
