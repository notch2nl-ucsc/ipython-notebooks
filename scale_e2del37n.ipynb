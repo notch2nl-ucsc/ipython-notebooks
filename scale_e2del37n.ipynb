{
 "cells": [
  {
   "cell_type": "code",
   "execution_count": 1,
   "metadata": {
    "collapsed": true
   },
   "outputs": [],
   "source": [
    "from csv import DictReader"
   ]
  },
  {
   "cell_type": "code",
   "execution_count": 18,
   "metadata": {
    "collapsed": false
   },
   "outputs": [],
   "source": [
    "e2del37n = DictReader(open('E2del37N/outs/summary.csv')).next()\n",
    "e2del60 = DictReader(open('E2del60/outs/summary.csv')).next()\n",
    "e2del70 = DictReader(open('E2del70/outs/summary.csv')).next()\n",
    "e2del19n = DictReader(open('E2del19N/outs/summary.csv')).next()"
   ]
  },
  {
   "cell_type": "code",
   "execution_count": 19,
   "metadata": {
    "collapsed": false
   },
   "outputs": [],
   "source": [
    "coverages = {}\n",
    "for g in ['e2del37n', 'e2del60', 'e2del70', 'e2del19n']:\n",
    "    coverages[g] = int(eval(g)['number_reads']) * float(eval(g)['mapped_reads'])"
   ]
  },
  {
   "cell_type": "code",
   "execution_count": 20,
   "metadata": {
    "collapsed": false
   },
   "outputs": [
    {
     "name": "stdout",
     "output_type": "stream",
     "text": [
      "{'e2del19n': 46836578.0, 'e2del70': 82365030.0, 'e2del37n': 94424286.0, 'e2del60': 80116118.0}\n"
     ]
    }
   ],
   "source": [
    "print coverages"
   ]
  },
  {
   "cell_type": "code",
   "execution_count": 22,
   "metadata": {
    "collapsed": true
   },
   "outputs": [],
   "source": [
    "e2del60_scale = coverages['e2del37n'] / coverages['e2del60']\n",
    "e2del70_scale = coverages['e2del37n'] / coverages['e2del70']\n",
    "e2del19n_scale = coverages['e2del37n'] / coverages['e2del19n']"
   ]
  },
  {
   "cell_type": "code",
   "execution_count": 23,
   "metadata": {
    "collapsed": false
   },
   "outputs": [
    {
     "name": "stdout",
     "output_type": "stream",
     "text": [
      "1.1785928769 1.14641233057 2.01603725191\n"
     ]
    }
   ],
   "source": [
    "print e2del60_scale, e2del70_scale, e2del19n_scale"
   ]
  },
  {
   "cell_type": "code",
   "execution_count": 13,
   "metadata": {
    "collapsed": true
   },
   "outputs": [],
   "source": [
    "!wiggletools scale 1.1785928769 compare_coverage/E2del60_q60.bw > compare_coverage/compare_E2del37N/E2del60_37N_rescaled.wig\n",
    "!wiggletools scale 1.14641233057 compare_coverage/E2del70_q60.bw > compare_coverage/compare_E2del37N/E2del70_37N_rescaled.wig"
   ]
  },
  {
   "cell_type": "code",
   "execution_count": 14,
   "metadata": {
    "collapsed": false
   },
   "outputs": [
    {
     "name": "stdout",
     "output_type": "stream",
     "text": [
      "verbose: False\r\n",
      "out_file_for_raw_data: None\r\n",
      "numberOfSamples: None\r\n",
      "bedFile: None\r\n",
      "bamFilesList: ['E2del37N/outs/possorted_bam.bam']\r\n",
      "ignoreDuplicates: False\r\n",
      "numberOfProcessors: 32\r\n",
      "samFlag_exclude: 3328\r\n",
      "save_data: False\r\n",
      "blackList: None\r\n",
      "stepSize: 50\r\n",
      "smoothLength: None\r\n",
      "center_read: False\r\n",
      "defaultFragmentLength: read length\r\n",
      "chrsToSkip: []\r\n",
      "region: chr1:50\r\n",
      "maxPairedFragmentLength: 1000\r\n",
      "samFlag_include: None\r\n",
      "binLength: 50\r\n",
      "blackListFileName: None\r\n",
      "minMappingQuality: 60\r\n",
      "zerosToNans: False\r\n"
     ]
    }
   ],
   "source": [
    "!bamCoverage -b E2del37N/outs/possorted_bam.bam --samFlagExclude 3328 --minMappingQuality 60  --numberOfProcessors 32 --region chr1 -o compare_coverage/E2del37N_q60.bw"
   ]
  },
  {
   "cell_type": "code",
   "execution_count": 15,
   "metadata": {
    "collapsed": true
   },
   "outputs": [],
   "source": [
    "!wiggletools diff compare_coverage/E2del37N_q60.bw compare_coverage/compare_E2del37N/E2del60_37N_rescaled.wig > compare_coverage/compare_E2del37N/E2del60_diff.wig\n",
    "!wiggletools diff compare_coverage/E2del37N_q60.bw compare_coverage/compare_E2del37N/E2del70_37N_rescaled.wig > compare_coverage/compare_E2del37N/E2del70_diff.wig"
   ]
  },
  {
   "cell_type": "code",
   "execution_count": 16,
   "metadata": {
    "collapsed": true
   },
   "outputs": [],
   "source": [
    "!wigToBigWig compare_coverage/compare_E2del37N/E2del60_diff.wig /cluster/data/hg38/chrom.sizes compare_coverage/compare_E2del37N/E2del60_diff.bw\n",
    "!wigToBigWig compare_coverage/compare_E2del37N/E2del70_diff.wig /cluster/data/hg38/chrom.sizes compare_coverage/compare_E2del37N/E2del70_diff.bw"
   ]
  },
  {
   "cell_type": "code",
   "execution_count": 25,
   "metadata": {
    "collapsed": false
   },
   "outputs": [
    {
     "name": "stdout",
     "output_type": "stream",
     "text": [
      "verbose: False\r\n",
      "out_file_for_raw_data: None\r\n",
      "numberOfSamples: None\r\n",
      "bedFile: None\r\n",
      "bamFilesList: ['E2del19N/outs/phased_possorted_bam.bam']\r\n",
      "ignoreDuplicates: False\r\n",
      "numberOfProcessors: 32\r\n",
      "samFlag_exclude: 3328\r\n",
      "save_data: False\r\n",
      "blackList: None\r\n",
      "stepSize: 50\r\n",
      "smoothLength: None\r\n",
      "center_read: False\r\n",
      "defaultFragmentLength: read length\r\n",
      "chrsToSkip: []\r\n",
      "region: chr1:50\r\n",
      "maxPairedFragmentLength: 1000\r\n",
      "samFlag_include: None\r\n",
      "binLength: 50\r\n",
      "blackListFileName: None\r\n",
      "minMappingQuality: 60\r\n",
      "zerosToNans: False\r\n"
     ]
    }
   ],
   "source": [
    "!bamCoverage -b E2del19N/outs/phased_possorted_bam.bam --samFlagExclude 3328 --minMappingQuality 60  --numberOfProcessors 32 --region chr1 -o compare_coverage/E2del19N_q60.bw"
   ]
  },
  {
   "cell_type": "code",
   "execution_count": 28,
   "metadata": {
    "collapsed": false
   },
   "outputs": [],
   "source": [
    "!wiggletools scale 2.01603725191 compare_coverage/E2del19N_q60.bw > compare_coverage/compare_E2del37N/E2del19N_37N_rescaled.wig\n",
    "!wiggletools diff compare_coverage/E2del37N_q60.bw compare_coverage/compare_E2del37N/E2del19N_37N_rescaled.wig > compare_coverage/compare_E2del37N/E2del19n_diff.wig"
   ]
  },
  {
   "cell_type": "code",
   "execution_count": 29,
   "metadata": {
    "collapsed": true
   },
   "outputs": [],
   "source": [
    "!wigToBigWig compare_coverage/compare_E2del37N/E2del19n_diff.wig /cluster/data/hg38/chrom.sizes compare_coverage/compare_E2del37N/E2del19n_diff.bw"
   ]
  },
  {
   "cell_type": "code",
   "execution_count": 30,
   "metadata": {
    "collapsed": true
   },
   "outputs": [],
   "source": [
    "e2del60_scale = coverages['e2del19n'] / coverages['e2del60']\n",
    "e2del70_scale = coverages['e2del19n'] / coverages['e2del70']\n",
    "e2del37n_scale = coverages['e2del19n'] / coverages['e2del37n']"
   ]
  },
  {
   "cell_type": "code",
   "execution_count": 31,
   "metadata": {
    "collapsed": false
   },
   "outputs": [
    {
     "name": "stdout",
     "output_type": "stream",
     "text": [
      "0.584608680116 0.568646402484 0.496022580462\n"
     ]
    }
   ],
   "source": [
    "print e2del60_scale, e2del70_scale, e2del37n_scale"
   ]
  },
  {
   "cell_type": "code",
   "execution_count": 32,
   "metadata": {
    "collapsed": false
   },
   "outputs": [
    {
     "name": "stdout",
     "output_type": "stream",
     "text": [
      "{'e2del19n': 46836578.0, 'e2del70': 82365030.0, 'e2del37n': 94424286.0, 'e2del60': 80116118.0}\n"
     ]
    }
   ],
   "source": [
    "print coverages"
   ]
  },
  {
   "cell_type": "code",
   "execution_count": 34,
   "metadata": {
    "collapsed": false
   },
   "outputs": [],
   "source": [
    "!wiggletools scale 0.584608680116 compare_coverage/E2del60_q60.bw > compare_coverage/compare_E2del19N/E2del60_19N_rescaled.wig\n",
    "!wiggletools scale 0.568646402484 compare_coverage/E2del70_q60.bw > compare_coverage/compare_E2del19N/E2del70_19N_rescaled.wig\n",
    "!wiggletools scale 0.496022580462 compare_coverage/E2del37N_q60.bw > compare_coverage/compare_E2del19N/E2del37N_19N_rescaled.wig"
   ]
  },
  {
   "cell_type": "code",
   "execution_count": 36,
   "metadata": {
    "collapsed": false
   },
   "outputs": [],
   "source": [
    "!wiggletools diff compare_coverage/E2del19N_q60.bw compare_coverage/compare_E2del19N/E2del60_19N_rescaled.wig > compare_coverage/compare_E2del19N/E2del60_diff.wig\n",
    "!wiggletools diff compare_coverage/E2del19N_q60.bw compare_coverage/compare_E2del19N/E2del70_19N_rescaled.wig > compare_coverage/compare_E2del19N/E2del70_diff.wig\n",
    "!wiggletools diff compare_coverage/E2del19N_q60.bw compare_coverage/compare_E2del19N/E2del37N_19N_rescaled.wig > compare_coverage/compare_E2del19N/E2del37n_diff.wig"
   ]
  },
  {
   "cell_type": "code",
   "execution_count": 37,
   "metadata": {
    "collapsed": true
   },
   "outputs": [],
   "source": [
    "!wigToBigWig compare_coverage/compare_E2del19N/E2del60_diff.wig /cluster/data/hg38/chrom.sizes compare_coverage/compare_E2del19N/E2del60_diff.bw\n",
    "!wigToBigWig compare_coverage/compare_E2del19N/E2del70_diff.wig /cluster/data/hg38/chrom.sizes compare_coverage/compare_E2del19N/E2del70_diff.bw\n",
    "!wigToBigWig compare_coverage/compare_E2del19N/E2del37n_diff.wig /cluster/data/hg38/chrom.sizes compare_coverage/compare_E2del19N/E2del37n_diff.bw"
   ]
  },
  {
   "cell_type": "code",
   "execution_count": null,
   "metadata": {
    "collapsed": true
   },
   "outputs": [],
   "source": []
  }
 ],
 "metadata": {
  "kernelspec": {
   "display_name": "Python [Root]",
   "language": "python",
   "name": "Python [Root]"
  },
  "language_info": {
   "codemirror_mode": {
    "name": "ipython",
    "version": 2
   },
   "file_extension": ".py",
   "mimetype": "text/x-python",
   "name": "python",
   "nbconvert_exporter": "python",
   "pygments_lexer": "ipython2",
   "version": "2.7.11"
  }
 },
 "nbformat": 4,
 "nbformat_minor": 0
}
