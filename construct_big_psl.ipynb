{
 "cells": [
  {
   "cell_type": "code",
   "execution_count": 53,
   "metadata": {
    "collapsed": false
   },
   "outputs": [],
   "source": [
    "import pysam\n",
    "from collections import *\n",
    "from tools.intervals import *\n",
    "from tools.transcripts import *\n",
    "from tools.fileOps import *\n",
    "from tools.bio import *\n",
    "from tools.psl import *\n",
    "from tools.procOps import *\n",
    "from orderedset import OrderedSet"
   ]
  },
  {
   "cell_type": "code",
   "execution_count": 2,
   "metadata": {
    "collapsed": true
   },
   "outputs": [],
   "source": [
    "fq_with_barcodes = '/hive/users/ifiddes/notch2nl_berkeley_data/E2del19N_E2del68_combined_longranger/E2del68_E2del19N_combined/E2del68_E2del19N_combined.sorted.fastq'"
   ]
  },
  {
   "cell_type": "code",
   "execution_count": 12,
   "metadata": {
    "collapsed": false
   },
   "outputs": [],
   "source": [
    "bcode_map = {}\n",
    "for x in open(fq_with_barcodes):\n",
    "    if x.startswith('@'):\n",
    "        n, t = x.split()\n",
    "        n = n[1:-2]  # remove identifier\n",
    "        bcode_map[n] = t"
   ]
  },
  {
   "cell_type": "code",
   "execution_count": 20,
   "metadata": {
    "collapsed": false
   },
   "outputs": [],
   "source": [
    "# for each bam, organize reads by barcode\n",
    "reads_by_bcode = defaultdict(lambda: defaultdict(list))\n",
    "for n in ['A1', 'A2', 'B1', 'B2', 'C1', 'C2', 'D1', 'D2', 'N1', 'N2']:\n",
    "    for rec in pysam.Samfile(n + '.binreads.bam'):\n",
    "        if rec.is_unmapped:\n",
    "            continue\n",
    "        bcode = bcode_map[rec.qname]\n",
    "        reads_by_bcode[n][bcode].append(rec)"
   ]
  },
  {
   "cell_type": "code",
   "execution_count": null,
   "metadata": {
    "collapsed": true
   },
   "outputs": [],
   "source": [
    "# construct a set of intervals for each barcode\n",
    "# also maintain a linear map of sequences to show indels\n",
    "bcode_intervals = defaultdict(dict)\n",
    "for n in reads_by_bcode:\n",
    "    for bcode, recs in reads_by_bcode[n].iteritems():\n",
    "        intervals = []\n",
    "        seqs = []\n",
    "        for rec in recs:\n",
    "            for block in rec.blocks"
   ]
  },
  {
   "cell_type": "code",
   "execution_count": 44,
   "metadata": {
    "collapsed": false
   },
   "outputs": [],
   "source": [
    "# try using blat\n",
    "# for each set of recs, if they are the primary mapping, concatenate the sequence in linear ordering\n",
    "bcode_seqs = defaultdict(dict)\n",
    "for n in reads_by_bcode:\n",
    "    for bcode, recs in reads_by_bcode[n].iteritems():\n",
    "        seq = OrderedSet()\n",
    "        for rec in recs:\n",
    "            if not rec.is_secondary and not rec.is_supplementary:\n",
    "                seq.add(rec.seq)\n",
    "        bcode_seqs[n][bcode] = ''.join(seq)"
   ]
  },
  {
   "cell_type": "code",
   "execution_count": 66,
   "metadata": {
    "collapsed": false
   },
   "outputs": [],
   "source": [
    "alns = defaultdict(list)\n",
    "with TemporaryFilePath() as tmp_fa, TemporaryFilePath() as tmp_psl:\n",
    "    for n in bcode_seqs:\n",
    "        for bcode, seq in bcode_seqs[n].iteritems():\n",
    "            with open(tmp_fa, 'w') as outf:\n",
    "                write_fasta(outf, bcode, seq)\n",
    "            cmd = ['blat', '../{}.fa'.format(n), '-noHead', tmp_fa, tmp_psl]\n",
    "            run_proc(cmd)\n",
    "            cmd = ['simpleChain', tmp_psl, '/dev/stdout', '-outPsl']\n",
    "            r = call_proc_lines(cmd)\n",
    "            recs = [PslRow(x.split()) for x in r]\n",
    "            rec = sorted(recs, key=lambda x: x.coverage)[-1]\n",
    "            alns[n].append(rec)"
   ]
  },
  {
   "cell_type": "code",
   "execution_count": null,
   "metadata": {
    "collapsed": true
   },
   "outputs": [],
   "source": []
  }
 ],
 "metadata": {
  "kernelspec": {
   "display_name": "Python [Root]",
   "language": "python",
   "name": "Python [Root]"
  },
  "language_info": {
   "codemirror_mode": {
    "name": "ipython",
    "version": 2
   },
   "file_extension": ".py",
   "mimetype": "text/x-python",
   "name": "python",
   "nbconvert_exporter": "python",
   "pygments_lexer": "ipython2",
   "version": "2.7.11"
  }
 },
 "nbformat": 4,
 "nbformat_minor": 0
}
