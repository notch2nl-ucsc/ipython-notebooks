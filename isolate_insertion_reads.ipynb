{
 "cells": [
  {
   "cell_type": "code",
   "execution_count": 4,
   "metadata": {
    "collapsed": true
   },
   "outputs": [],
   "source": [
    "import pysam\n",
    "from tools.bio import *\n",
    "sys.path.append('/hive/users/ifiddes/comparativeAnnotator/')\n",
    "from sonLib.bioio import *"
   ]
  },
  {
   "cell_type": "code",
   "execution_count": 28,
   "metadata": {
    "collapsed": true
   },
   "outputs": [],
   "source": [
    "magic_sequence = 'TGTGTCATGTCATCTTGGGGGA'\n",
    "magic_sequence_rev = reverse_complement(magic_sequence)"
   ]
  },
  {
   "cell_type": "code",
   "execution_count": 29,
   "metadata": {
    "collapsed": false
   },
   "outputs": [],
   "source": [
    "recs = set()\n",
    "for name, seq, qual in fastqRead('E2del22.fastq'):\n",
    "    if magic_sequence in seq or magic_sequence_rev in seq:\n",
    "        recs.add(name.split('/')[0])"
   ]
  },
  {
   "cell_type": "code",
   "execution_count": 30,
   "metadata": {
    "collapsed": false
   },
   "outputs": [
    {
     "name": "stdout",
     "output_type": "stream",
     "text": [
      "0\n"
     ]
    }
   ],
   "source": [
    "print len(recs)"
   ]
  },
  {
   "cell_type": "code",
   "execution_count": 31,
   "metadata": {
    "collapsed": false
   },
   "outputs": [
    {
     "name": "stdout",
     "output_type": "stream",
     "text": [
      "0\n"
     ]
    }
   ],
   "source": [
    "magic_sequence = 'TGTGTCATGTCATCTTGGGGGA'\n",
    "magic_sequence_rev = reverse_complement(magic_sequence)\n",
    "recs = set()\n",
    "for name, seq, qual in fastqRead('E2del22.fastq'):\n",
    "    if magic_sequence in seq or magic_sequence_rev in seq:\n",
    "        recs.add(name.split('/')[0])\n",
    "print len(recs)"
   ]
  },
  {
   "cell_type": "code",
   "execution_count": 32,
   "metadata": {
    "collapsed": true
   },
   "outputs": [],
   "source": [
    "from collections import *\n",
    "paired_reads = defaultdict(list)\n",
    "for name, seq, qual in fastqRead('E2del22.fastq'):\n",
    "    t = name.split('/')[0]\n",
    "    if t in recs:\n",
    "        paired_reads[t].append([name, seq])"
   ]
  },
  {
   "cell_type": "code",
   "execution_count": 27,
   "metadata": {
    "collapsed": false
   },
   "outputs": [],
   "source": [
    "with open('insertion_reads.fa', 'w') as outf:\n",
    "    for t in paired_reads:\n",
    "        for name, seq in paired_reads[t]:\n",
    "            write_fasta(outf, name, seq)"
   ]
  },
  {
   "cell_type": "code",
   "execution_count": 22,
   "metadata": {
    "collapsed": false
   },
   "outputs": [
    {
     "name": "stdout",
     "output_type": "stream",
     "text": [
      "Loaded 208041 letters in 1 sequences\n",
      "Searched 4464 bases in 32 sequences\n",
      "pass1 - making usageList (1 chroms): 0 millis\n",
      "pass2 - checking and writing primary data (24 records, 25 fields): 3 millis\n"
     ]
    }
   ],
   "source": [
    "!blat ../new_consensus/extended_alignment_consensus.fa insertion_reads.fa -noHead insertion_reads.psl\n",
    "!pslToBigPsl  -fa=insertion_reads.fa insertion_reads.psl stdout | sort -k1,1 -k2,2n > tmp\n",
    "!bedToBigBed -type=bed12+13 -tab -as=/cluster/home/ifiddes/kent/src/hg/lib/bigPsl.as tmp /hive/users/ifiddes/notch2nl_berkeley_data/new_consensus/chrom.sizes consensus_hub/NOTCH2NL-consensus/insertion_reads.bb "
   ]
  },
  {
   "cell_type": "code",
   "execution_count": 12,
   "metadata": {
    "collapsed": false
   },
   "outputs": [
    {
     "data": {
      "text/plain": [
       "{'AACTCAGGTCGAGATG-1',\n",
       " 'AGCGGTCGTGTCAACT-1',\n",
       " 'AGGGATGAGATGGTAT-1',\n",
       " 'AGTTTCTGTGAGTGAC-1',\n",
       " 'ATCCGGGCAGCGCTTG-1',\n",
       " 'CAACTAGAGCCTGGCT-1',\n",
       " 'CACCACTAGGGATAAG-1',\n",
       " 'GCAGGTCCACGCCAAC-1',\n",
       " 'GGGCCATCAAAGGCTG-1',\n",
       " 'GGTGGCTTCAGCGCGT-1',\n",
       " 'TAGACTGCACTTGTGA-1',\n",
       " 'TCGAGGCAGATTGCAA-1',\n",
       " 'TCGGTAACATGGCTCG-1',\n",
       " 'TTCCCAGGTCGACTAT-1',\n",
       " 'TTTGCGCGTACGCACC-1'}"
      ]
     },
     "execution_count": 12,
     "metadata": {},
     "output_type": "execute_result"
    }
   ],
   "source": [
    "{x[0].split()[1] for x in recs}"
   ]
  },
  {
   "cell_type": "code",
   "execution_count": 13,
   "metadata": {
    "collapsed": false
   },
   "outputs": [
    {
     "name": "stdout",
     "output_type": "stream",
     "text": [
      "K00188:251:HG3W7BBXX:3:2218:19816:6150/1 TAGACTGCACTTGTGA-1\n"
     ]
    }
   ],
   "source": [
    "print name"
   ]
  },
  {
   "cell_type": "code",
   "execution_count": 23,
   "metadata": {
    "collapsed": false
   },
   "outputs": [
    {
     "data": {
      "text/plain": [
       "'TATATTGCCAAATGATGGAGTGATGAGATTGAAATCTACTACTTCTTTTTGCCTTTTTTTTTTTTTTTTTTTTGGTGGTGTAGAGGGGGGCCTGCACAAACAGCAGATACACACACAGTAAATAAAAT'"
      ]
     },
     "execution_count": 23,
     "metadata": {},
     "output_type": "execute_result"
    }
   ],
   "source": [
    "reverse_complement('ATTTTATTTACTGTGTGTGTATCTGCTGTTTGTGCAGGCCCCCCTCTACACCACCAAAAAAAAAAAAAAAAAAAAGGCAAAAAGAAGTAGTAGATTTCAATCTCATCACTCCATCATTTGGCAATATA')"
   ]
  },
  {
   "cell_type": "code",
   "execution_count": null,
   "metadata": {
    "collapsed": true
   },
   "outputs": [],
   "source": []
  }
 ],
 "metadata": {
  "anaconda-cloud": {},
  "kernelspec": {
   "display_name": "Python [conda root]",
   "language": "python",
   "name": "conda-root-py"
  },
  "language_info": {
   "codemirror_mode": {
    "name": "ipython",
    "version": 2
   },
   "file_extension": ".py",
   "mimetype": "text/x-python",
   "name": "python",
   "nbconvert_exporter": "python",
   "pygments_lexer": "ipython2",
   "version": "2.7.12"
  }
 },
 "nbformat": 4,
 "nbformat_minor": 1
}
