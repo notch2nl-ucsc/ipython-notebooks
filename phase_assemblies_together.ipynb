{
 "cells": [
  {
   "cell_type": "code",
   "execution_count": 64,
   "metadata": {
    "collapsed": true
   },
   "outputs": [],
   "source": [
    "import vcf\n",
    "import pandas as pd\n",
    "import os\n",
    "from collections import *\n",
    "import itertools\n",
    "from tools.fileOps import *"
   ]
  },
  {
   "cell_type": "code",
   "execution_count": 100,
   "metadata": {
    "collapsed": false
   },
   "outputs": [],
   "source": [
    "bins = {'A1': 'working/PhaseBarcodesStep/bins/5.bin.txt',\n",
    "       'A2': 'working/PhaseBarcodesStep/bins/6.bin.txt',\n",
    "       'B1': 'working/PhaseBarcodesStep/bins/7.bin.txt',\n",
    "       'B2': 'working/PhaseBarcodesStep/bins/8.bin.txt',\n",
    "       'C1': 'reassemble_c9_k2/working/PhaseBarcodesStep/bins/0.bin.txt',\n",
    "       'C2': 'reassemble_c9_k2/working/PhaseBarcodesStep/bins/1.bin.txt'}\n",
    "\n",
    "bcodes = {b: {x.rstrip() for x in open(p)} for b, p in bins.iteritems()}"
   ]
  },
  {
   "cell_type": "code",
   "execution_count": 207,
   "metadata": {
    "collapsed": true
   },
   "outputs": [],
   "source": [
    "vcf_reader = vcf.Reader(open('../outs/phased_variants.vcf.gz'))"
   ]
  },
  {
   "cell_type": "code",
   "execution_count": 208,
   "metadata": {
    "collapsed": false
   },
   "outputs": [],
   "source": [
    "vars = list(vcf_reader.fetch('chr1', 145318542, 150302165))"
   ]
  },
  {
   "cell_type": "code",
   "execution_count": 209,
   "metadata": {
    "collapsed": true
   },
   "outputs": [],
   "source": [
    "# group by phase set\n",
    "vars = sorted(vars, key=lambda x: x.samples[0].data.PS)\n",
    "phase_blocks = {key: list(group) for key, group in itertools.groupby(vars, lambda v: v.samples[0].data.PS)}"
   ]
  },
  {
   "cell_type": "code",
   "execution_count": 67,
   "metadata": {
    "collapsed": false
   },
   "outputs": [
    {
     "data": {
      "text/plain": [
       "<matplotlib.axes._subplots.AxesSubplot at 0x7ff6251d1910>"
      ]
     },
     "execution_count": 67,
     "metadata": {},
     "output_type": "execute_result"
    },
    {
     "data": {
      "image/png": "[encoded data removed]",
      "text/plain": [
       "<matplotlib.figure.Figure at 0x7ff56b5fdfd0>"
      ]
     },
     "metadata": {},
     "output_type": "display_data"
    }
   ],
   "source": [
    "import seaborn as sns\n",
    "%matplotlib inline\n",
    "\n",
    "sizes = [x[-1].POS - x[0].POS for x in phase_blocks.itervalues() if len(x) > 1]\n",
    "sns.distplot(sizes)"
   ]
  },
  {
   "cell_type": "code",
   "execution_count": 109,
   "metadata": {
    "collapsed": false
   },
   "outputs": [],
   "source": [
    "# construct a BED of phase blocks\n",
    "blocks = [['chr1', y[0].POS, y[-1].POS, x] for x, y in phase_blocks.iteritems() if len(y) > 1] \n",
    "print_rows('phase_blocks.bed', blocks)"
   ]
  },
  {
   "cell_type": "code",
   "execution_count": 94,
   "metadata": {
    "collapsed": false
   },
   "outputs": [],
   "source": [
    "# find the set of barcodes in each block\n",
    "phased_barcodes = {}\n",
    "for pos, recs in phase_blocks.iteritems():\n",
    "    a = set()\n",
    "    b = set()\n",
    "    for rec in recs:\n",
    "        a.update({x.split('_')[0] for x in rec.samples[0].data.BX[0].split(';')})\n",
    "        b.update({x.split('_')[0] for x in rec.samples[0].data.BX[1].split(';')})\n",
    "    phased_barcodes[pos] = (a, b)"
   ]
  },
  {
   "cell_type": "code",
   "execution_count": 105,
   "metadata": {
    "collapsed": false
   },
   "outputs": [],
   "source": [
    "# for each phase block, find intersection with our sets\n",
    "associate_with_bcodes = []\n",
    "for pos, (a, b) in sorted(phased_barcodes.iteritems(), key=lambda x: x[0]):\n",
    "    for n, s in zip(*[[0, 1], [a, b]]):\n",
    "        for para, bcode_set in bcodes.iteritems():\n",
    "            associate_with_bcodes.append([pos, n, para, set.intersection(s, bcode_set)])"
   ]
  },
  {
   "cell_type": "code",
   "execution_count": 110,
   "metadata": {
    "collapsed": false
   },
   "outputs": [],
   "source": [
    "# how many?\n",
    "df_vals = []\n",
    "for pos, n, para, i in associate_with_bcodes:\n",
    "    df_vals.append([pos, n, para, len(i)])\n",
    "\n",
    "df = pd.DataFrame(df_vals, columns=['pos', '10x haplotype', 'phased paralog', 'size of intersection'])"
   ]
  },
  {
   "cell_type": "code",
   "execution_count": 114,
   "metadata": {
    "collapsed": false
   },
   "outputs": [],
   "source": [
    "df[df.pos.isin([146127149, 146316718, 149351268])].to_csv('10x_comparison.csv')"
   ]
  },
  {
   "cell_type": "code",
   "execution_count": 135,
   "metadata": {
    "collapsed": false
   },
   "outputs": [
    {
     "data": {
      "image/png": "[encoded data removed]",
      "text/plain": [
       "<matplotlib.figure.Figure at 0x7ff567eb4610>"
      ]
     },
     "metadata": {},
     "output_type": "display_data"
    }
   ],
   "source": [
    "# how big are the overlaps for each anyways?\n",
    "from matplotlib_venn import *\n",
    "import matplotlib.pyplot as plt\n",
    "fig, axes = plt.subplots(3, 1)\n",
    "i = 0\n",
    "for pos, (a, b) in sorted(phased_barcodes.iteritems(), key=lambda x: x[0]):\n",
    "    if pos in [146127149, 146316718, 149351268]:\n",
    "        ax = axes[i]\n",
    "        v = venn2([a, b], set_labels=('0', '1'), ax=ax)\n",
    "        ax.set_title(pos)\n",
    "        i += 1\n",
    "plt.tight_layout()"
   ]
  },
  {
   "cell_type": "code",
   "execution_count": 217,
   "metadata": {
    "collapsed": false
   },
   "outputs": [],
   "source": [
    "# try filtering for q70\n",
    "# find the set of barcodes in each block\n",
    "phased_barcodes_q70 = {}\n",
    "for pos, recs in phase_blocks.iteritems():\n",
    "    a = set()\n",
    "    b = set()\n",
    "    for rec in recs:\n",
    "        avals = rec.samples[0].data.BX[0].split(';')\n",
    "        avals = [x.split('_') for x in avals]\n",
    "        for x in avals:\n",
    "            if any(x >= 70 for x in map(int, x[1:])):\n",
    "                a.add(x[0])\n",
    "        bvals = rec.samples[0].data.BX[1].split(';')\n",
    "        bvals = [x.split('_') for x in bvals]\n",
    "        for x in bvals:\n",
    "            if any(x >= 70 for x in map(int, x[1:])):\n",
    "                b.add(x[0])\n",
    "    phased_barcodes_q70[pos] = (a, b)"
   ]
  },
  {
   "cell_type": "code",
   "execution_count": 218,
   "metadata": {
    "collapsed": false
   },
   "outputs": [
    {
     "name": "stdout",
     "output_type": "stream",
     "text": [
      "           pos  10x haplotype phased paralog  size of intersection\n",
      "72   146127149              0             A1                   143\n",
      "73   146127149              0             A2                   424\n",
      "74   146127149              0             B1                   207\n",
      "75   146127149              0             B2                   334\n",
      "76   146127149              0             C2                     5\n",
      "77   146127149              0             C1                     5\n",
      "78   146127149              1             A1                   134\n",
      "79   146127149              1             A2                   424\n",
      "80   146127149              1             B1                   205\n",
      "81   146127149              1             B2                   315\n",
      "82   146127149              1             C2                     5\n",
      "83   146127149              1             C1                     0\n",
      "252  146316718              0             A1                   473\n",
      "253  146316718              0             A2                   195\n",
      "254  146316718              0             B1                   354\n",
      "255  146316718              0             B2                   279\n",
      "256  146316718              0             C2                    45\n",
      "257  146316718              0             C1                    73\n",
      "258  146316718              1             A1                   470\n",
      "259  146316718              1             A2                   175\n",
      "260  146316718              1             B1                   281\n",
      "261  146316718              1             B2                   277\n",
      "262  146316718              1             C2                    66\n",
      "263  146316718              1             C1                    59\n",
      "732  149351268              0             A1                     9\n",
      "733  149351268              0             A2                    11\n",
      "734  149351268              0             B1                    10\n",
      "735  149351268              0             B2                    13\n",
      "736  149351268              0             C2                   235\n",
      "737  149351268              0             C1                   228\n",
      "738  149351268              1             A1                    12\n",
      "739  149351268              1             A2                     4\n",
      "740  149351268              1             B1                     6\n",
      "741  149351268              1             B2                     8\n",
      "742  149351268              1             C2                   268\n",
      "743  149351268              1             C1                   272\n"
     ]
    }
   ],
   "source": [
    "# for each phase block, find intersection with our sets\n",
    "associate_with_bcodes_q70 = []\n",
    "for pos, (a, b) in sorted(phased_barcodes_q70.iteritems(), key=lambda x: x[0]):\n",
    "    for n, s in zip(*[[0, 1], [a, b]]):\n",
    "        for para, bcode_set in bcodes.iteritems():\n",
    "            associate_with_bcodes_q70.append([pos, n, para, set.intersection(s, bcode_set)])\n",
    "\n",
    "# how many?\n",
    "df_vals_q70 = []\n",
    "for pos, n, para, i in associate_with_bcodes_q70:\n",
    "    df_vals_q70.append([pos, n, para, len(i)])\n",
    "\n",
    "df_q70 = pd.DataFrame(df_vals_q70, columns=['pos', '10x haplotype', 'phased paralog', 'size of intersection'])\n",
    "#df_60[df_60.pos.isin([146127149, 146316718, 149351268])].to_csv('10x_comparison.csv')\n",
    "print df_q70[df_q70.pos.isin([146127149, 146316718, 149351268])]"
   ]
  },
  {
   "cell_type": "code",
   "execution_count": 219,
   "metadata": {
    "collapsed": false
   },
   "outputs": [
    {
     "name": "stdout",
     "output_type": "stream",
     "text": [
      "           pos  10x haplotype phased paralog  size of intersection\n",
      "72   146127149              0             A1                   143\n",
      "73   146127149              0             A2                   416\n",
      "74   146127149              0             B1                   206\n",
      "75   146127149              0             B2                   311\n",
      "76   146127149              0             C2                     3\n",
      "77   146127149              0             C1                     4\n",
      "78   146127149              1             A1                   128\n",
      "79   146127149              1             A2                   419\n",
      "80   146127149              1             B1                   199\n",
      "81   146127149              1             B2                   314\n",
      "82   146127149              1             C2                     5\n",
      "83   146127149              1             C1                     0\n",
      "252  146316718              0             A1                   365\n",
      "253  146316718              0             A2                   180\n",
      "254  146316718              0             B1                   334\n",
      "255  146316718              0             B2                   246\n",
      "256  146316718              0             C2                    27\n",
      "257  146316718              0             C1                    55\n",
      "258  146316718              1             A1                   456\n",
      "259  146316718              1             A2                   163\n",
      "260  146316718              1             B1                   221\n",
      "261  146316718              1             B2                   224\n",
      "262  146316718              1             C2                    65\n",
      "263  146316718              1             C1                    56\n",
      "732  149351268              0             A1                     8\n",
      "733  149351268              0             A2                     9\n",
      "734  149351268              0             B1                     7\n",
      "735  149351268              0             B2                    10\n",
      "736  149351268              0             C2                   159\n",
      "737  149351268              0             C1                   164\n",
      "738  149351268              1             A1                    11\n",
      "739  149351268              1             A2                     3\n",
      "740  149351268              1             B1                     3\n",
      "741  149351268              1             B2                     5\n",
      "742  149351268              1             C2                   257\n",
      "743  149351268              1             C1                   249\n"
     ]
    }
   ],
   "source": [
    "# try filtering for q70 and passing\n",
    "# find the set of barcodes in each block\n",
    "phased_barcodes_q70_pass = {}\n",
    "for pos, recs in phase_blocks.iteritems():\n",
    "    a = set()\n",
    "    b = set()\n",
    "    for rec in recs:\n",
    "        if len(rec.FILTER) > 0:\n",
    "            continue\n",
    "        avals = rec.samples[0].data.BX[0].split(';')\n",
    "        avals = [x.split('_') for x in avals]\n",
    "        for x in avals:\n",
    "            if any(x >= 70 for x in map(int, x[1:])):\n",
    "                a.add(x[0])\n",
    "        bvals = rec.samples[0].data.BX[1].split(';')\n",
    "        bvals = [x.split('_') for x in bvals]\n",
    "        for x in bvals:\n",
    "            if any(x >= 70 for x in map(int, x[1:])):\n",
    "                b.add(x[0])\n",
    "    phased_barcodes_q70_pass[pos] = (a, b)\n",
    "\n",
    "# for each phase block, find intersection with our sets\n",
    "associate_with_bcodes_q70_pass = []\n",
    "for pos, (a, b) in sorted(phased_barcodes_q70_pass.iteritems(), key=lambda x: x[0]):\n",
    "    for n, s in zip(*[[0, 1], [a, b]]):\n",
    "        for para, bcode_set in bcodes.iteritems():\n",
    "            associate_with_bcodes_q70_pass.append([pos, n, para, set.intersection(s, bcode_set)])\n",
    "\n",
    "# how many?\n",
    "df_vals_q70_pass = []\n",
    "for pos, n, para, i in associate_with_bcodes_q70_pass:\n",
    "    df_vals_q70_pass.append([pos, n, para, len(i)])\n",
    "\n",
    "df_q70_pass = pd.DataFrame(df_vals_q70_pass, columns=['pos', '10x haplotype', 'phased paralog', 'size of intersection'])\n",
    "#df_60[df_60.pos.isin([146127149, 146316718, 149351268])].to_csv('10x_comparison.csv')\n",
    "print df_q70_pass[df_q70_pass.pos.isin([146127149, 146316718, 149351268])]"
   ]
  },
  {
   "cell_type": "code",
   "execution_count": null,
   "metadata": {
    "collapsed": true
   },
   "outputs": [],
   "source": []
  },
  {
   "cell_type": "code",
   "execution_count": null,
   "metadata": {
    "collapsed": true
   },
   "outputs": [],
   "source": []
  }
 ],
 "metadata": {
  "kernelspec": {
   "display_name": "Python [Root]",
   "language": "python",
   "name": "Python [Root]"
  },
  "language_info": {
   "codemirror_mode": {
    "name": "ipython",
    "version": 2
   },
   "file_extension": ".py",
   "mimetype": "text/x-python",
   "name": "python",
   "nbconvert_exporter": "python",
   "pygments_lexer": "ipython2",
   "version": "2.7.11"
  }
 },
 "nbformat": 4,
 "nbformat_minor": 0
}
