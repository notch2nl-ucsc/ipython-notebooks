{
 "cells": [
  {
   "cell_type": "code",
   "execution_count": 77,
   "metadata": {
    "collapsed": true
   },
   "outputs": [],
   "source": [
    "import vcf\n",
    "import pandas as pd\n",
    "from collections import defaultdict, Counter\n",
    "import pysam"
   ]
  },
  {
   "cell_type": "code",
   "execution_count": 116,
   "metadata": {
    "collapsed": true
   },
   "outputs": [],
   "source": [
    "reads = list(pysam.Samfile('margin_align_longer_consensus.sam'))"
   ]
  },
  {
   "cell_type": "code",
   "execution_count": 209,
   "metadata": {
    "collapsed": false
   },
   "outputs": [
    {
     "data": {
      "text/plain": [
       "[<matplotlib.lines.Line2D at 0x7fe0f2eb4b50>]"
      ]
     },
     "execution_count": 209,
     "metadata": {},
     "output_type": "execute_result"
    },
    {
     "data": {
      "image/png": "[encoded data removed]",
      "text/plain": [
       "<matplotlib.figure.Figure at 0x7fe0fbe114d0>"
      ]
     },
     "metadata": {},
     "output_type": "display_data"
    }
   ],
   "source": [
    "import seaborn as sns\n",
    "import matplotlib.pyplot as plt\n",
    "%matplotlib inline\n",
    "\n",
    "# whats our coverage across the transcript look like?\n",
    "import numpy as np\n",
    "coverages = np.zeros(2202)\n",
    "for a in reads:\n",
    "    for read_pos, ref_pos in a.get_aligned_pairs():\n",
    "        if read_pos is not None and ref_pos is not None:\n",
    "            coverages[ref_pos] += 1\n",
    "\n",
    "plt.plot(range(len(coverages)), coverages)"
   ]
  },
  {
   "cell_type": "code",
   "execution_count": 210,
   "metadata": {
    "collapsed": true
   },
   "outputs": [],
   "source": [
    "# parse VCF into intervals\n",
    "# based on coverage plot, cut off at 1100 bases\n",
    "recs = list(vcf.Reader(open('variants_longer.vcf')))\n",
    "recs = [x for x in recs if x.POS <= 1100]\n",
    "intervals = []\n",
    "for r in recs:\n",
    "    start, stop = r._compute_coordinates_for_indel()\n",
    "    intervals.append([start - 1, stop, r])  # convert to 0-based"
   ]
  },
  {
   "cell_type": "code",
   "execution_count": 211,
   "metadata": {
    "collapsed": false
   },
   "outputs": [
    {
     "name": "stdout",
     "output_type": "stream",
     "text": [
      "             0  1     2  3  4   5  6  7                     8  9  ... 23 24  \\\n",
      "NOTCH2-1      T  T  CGGC  G  G  CC  G  G           GCGGCGGAGGA  A ...  C  A   \n",
      "NOTCH2NL-A-1  T  C  CGGC  G  G   C  G  G           GCGGCGGCGGA  A ...  C  G   \n",
      "NOTCH2NL-A-2  T  C  CGGC  G  G   C  G  G           GCGGCGGCGGA  A ...  C  G   \n",
      "NOTCH2NL-B-1  T  C     C  C  G  CC  G  G                    GA  A ...  C  G   \n",
      "NOTCH2NL-B-2  T  C     C  C  G  CC  G  G                    GA  A ...  C  G   \n",
      "NOTCH2NL-C-1  T  C  CGGC  G  G  CC  T  C  GCGGCGGCGGCGGCGGAGGA  C ...  C  G   \n",
      "NOTCH2NL-C-2  T  C  CGGC  G  G  CC  T  C           GCGGCGGCGGC  C ...  C  G   \n",
      "NOTCH2NL-D-1  C  C  CGGC  G  A  CC  G  G  GCGGCGGCGGCGGAGGAGGA  A ...  T  G   \n",
      "\n",
      "             25 26 27 28 29 30     31 32  \n",
      "NOTCH2-1      C  C  C  C  A  A  AATAA  G  \n",
      "NOTCH2NL-A-1  T  T  C  C  G  A      A  A  \n",
      "NOTCH2NL-A-2  C  T  C  C  G  A      A  A  \n",
      "NOTCH2NL-B-1  C  T  C  C  G  A      A  A  \n",
      "NOTCH2NL-B-2  C  T  C  C  G  A      A  A  \n",
      "NOTCH2NL-C-1  C  T  C  C  G  A      A  A  \n",
      "NOTCH2NL-C-2  C  T  C  C  G  A      A  A  \n",
      "NOTCH2NL-D-1  C  T  A  A  G  T  AATAA  A  \n",
      "\n",
      "[8 rows x 33 columns]\n"
     ]
    }
   ],
   "source": [
    "# how many distinct feature vectors are there?\n",
    "feature_vectors = defaultdict(list)\n",
    "for r in recs:\n",
    "    for sample in r.samples[:-1]:  # exclude consensus\n",
    "        gt = sample.gt_bases.split('/')[0]\n",
    "        feature_vectors[sample.sample].append(gt)\n",
    "        \n",
    "feature_df = pd.DataFrame.from_dict(feature_vectors).T\n",
    "print feature_df.drop_duplicates()"
   ]
  },
  {
   "cell_type": "code",
   "execution_count": 212,
   "metadata": {
    "collapsed": false
   },
   "outputs": [],
   "source": [
    "results = []\n",
    "for a in reads:\n",
    "    r = [a.qname]\n",
    "    m = {y: x for x, y in a.get_aligned_pairs()}\n",
    "    for start, stop, rec in intervals:\n",
    "        start = m.get(start, None)\n",
    "        stop = m.get(stop, None)\n",
    "        if start is not None and stop is not None:\n",
    "            seq = a.seq[start:stop]\n",
    "        else:\n",
    "            seq = None\n",
    "        r.append(seq)\n",
    "    results.append(r)\n",
    "\n",
    "# construct column names based on VCF records\n",
    "columns = ['read_name']\n",
    "for i, r in enumerate(recs):\n",
    "    s = defaultdict(list)\n",
    "    for sample in r.samples[:-1]:  # exclude consensus\n",
    "        gt = sample.gt_bases.split('/')[0]  # inherently homozygous\n",
    "        if 'NOTCH2-' in sample.sample: # simplify names\n",
    "            name = 'N2-' + sample.sample.split('-', 1)[1]\n",
    "        else:\n",
    "            name = sample.sample.split('-', 1)[1]\n",
    "        s[gt].append(name)\n",
    "    name_str = '_'.join([':'.join([x, ','.join(y)]) for x, y in s.iteritems()])\n",
    "    columns.append('{}/{}'.format(i, name_str))\n",
    "        \n",
    "df = pd.DataFrame(results, columns=columns)\n",
    "df = df.set_index('read_name')"
   ]
  },
  {
   "cell_type": "code",
   "execution_count": 213,
   "metadata": {
    "collapsed": false
   },
   "outputs": [
    {
     "name": "stdout",
     "output_type": "stream",
     "text": [
      "0/C:D-1,D-2_T:N2-1,N2-2,A-1,A-2,B-1,B-2,C-1,C-2 [(None, 1269), ('T', 199), ('C', 11)]\n",
      "1/C:A-1,A-2,B-1,B-2,C-1,C-2,D-1,D-2_T:N2-1,N2-2 [(None, 1235), ('C', 238), ('T', 4)]\n",
      "2/CGGC:N2-1,N2-2,A-1,A-2,C-1,C-2,D-1,D-2_C:B-1,B-2 [(None, 1089), ('CGGC', 269), ('CGGT', 40)]\n",
      "3/C:B-1,B-2_G:N2-1,N2-2,A-1,A-2,C-1,C-2,D-1,D-2 [(None, 757), ('G', 443), ('C', 186)]\n",
      "4/A:D-1,D-2_G:N2-1,N2-2,A-1,A-2,B-1,B-2,C-1,C-2 [('G', 934), (None, 511), ('A', 35)]\n",
      "5/CC:N2-1,N2-2,B-1,B-2,C-1,C-2,D-1,D-2_C:A-1,A-2 [('CC', 626), (None, 520), ('C', 274)]\n",
      "6/T:C-1,C-2_G:N2-1,N2-2,A-1,A-2,B-1,B-2,D-1,D-2 [('G', 828), (None, 566), ('T', 54)]\n",
      "7/C:C-1,C-2_G:N2-1,N2-2,A-1,A-2,B-1,B-2,D-1,D-2 [('G', 925), (None, 484), ('C', 55)]\n",
      "8/GCGGCGGCGGA:A-1,A-2_GCGGCGGCGGC:C-2_GCGGCGGAGGA:N2-1,N2-2_GCGGCGGCGGCGGAGGAGGA:D-1,D-2_GA:B-1,B-2_GCGGCGGCGGCGGCGGAGGA:C-1 [(None, 1185), ('GCGGCGGCGGA', 49), ('GCGGA', 30)]\n",
      "9/A:N2-1,N2-2,A-1,A-2,B-1,B-2,D-1,D-2_C:C-1,C-2 [('A', 941), (None, 334), ('C', 185)]\n",
      "10/A:A-1,A-2_G:N2-1,N2-2,B-1,B-2,C-1,C-2,D-1,D-2 [('G', 962), ('A', 301), (None, 202)]\n",
      "11/GCC:N2-1,N2-2,A-1,A-2,B-1,B-2_GTC:D-1,D-2_G:C-1,C-2 [('GCC', 721), (None, 505), ('GC', 183)]\n",
      "12/C:N2-1,N2-2,A-1,A-2,B-1,B-2,C-1,C-2_G:D-1,D-2 [('C', 1097), (None, 292), ('G', 36)]\n",
      "13/A:A-1,A-2,B-1,B-2,C-1,C-2_G:N2-1,N2-2,D-1,D-2 [('A', 1302), (None, 114), ('G', 64)]\n",
      "14/A:D-1,D-2_G:N2-1,N2-2,A-1,A-2,B-1,B-2,C-1,C-2 [('G', 1309), (None, 131), ('A', 27)]\n",
      "15/A:N2-1,N2-2,A-1,A-2,B-1,B-2,C-1,C-2_G:D-1,D-2 [('A', 1200), (None, 196), ('G', 76)]\n",
      "16/A:N2-1,N2-2,A-1,A-2,B-1,B-2,C-1,C-2_G:D-1,D-2 [('A', 1340), (None, 90), ('G', 45)]\n",
      "17/A:N2-1,N2-2_G:A-1,A-2,B-1,B-2,C-1,C-2,D-1,D-2 [('G', 1327), (None, 133), ('A', 17)]\n",
      "18/C:D-1,D-2_T:N2-1,N2-2,A-1,A-2,B-1,B-2,C-1,C-2 [('T', 1130), (None, 308), ('C', 39)]\n",
      "19/C:N2-1,N2-2,A-1,A-2,B-1,C-1,C-2,D-1,D-2_T:B-2 [('C', 1286), (None, 130), ('T', 51)]\n",
      "20/C:N2-1,N2-2_T:A-1,A-2,B-1,B-2,C-1,C-2,D-1,D-2 [('T', 1021), (None, 430), ('C', 16)]\n",
      "21/A:N2-1,N2-2,A-2,B-1,B-2,C-1,C-2,D-1,D-2_G:A-1 [('A', 793), (None, 426), ('G', 242)]\n",
      "22/C:A-1,A-2,B-1,B-2,C-1,C-2,D-1,D-2_G:N2-1,N2-2 [('C', 1287), (None, 99), ('T', 76)]\n",
      "23/C:N2-1,N2-2,A-1,A-2,B-1,B-2,C-1,C-2_T:D-1,D-2 [('C', 844), (None, 574), ('T', 41)]\n",
      "24/A:N2-1,N2-2_G:A-1,A-2,B-1,B-2,C-1,C-2,D-1,D-2 [('G', 1247), (None, 207), ('A', 12)]\n",
      "25/C:N2-1,N2-2,A-2,B-1,B-2,C-1,C-2,D-1,D-2_T:A-1 [('C', 1058), ('T', 201), (None, 199)]\n",
      "26/C:N2-1,N2-2_T:A-1,A-2,B-1,B-2,C-1,C-2,D-1,D-2 [('T', 1121), (None, 328), ('TT', 16)]\n",
      "27/A:D-1,D-2_C:N2-1,N2-2,A-1,A-2,B-1,B-2,C-1,C-2 [('C', 1182), (None, 212), ('A', 36)]\n",
      "28/A:D-1,D-2_C:N2-1,N2-2,A-1,A-2,B-1,B-2,C-1,C-2 [('C', 776), (None, 650), ('A', 29)]\n",
      "29/A:N2-1,N2-2_G:A-1,A-2,B-1,B-2,C-1,C-2,D-1,D-2 [('G', 1292), (None, 147), ('A', 31)]\n",
      "30/A:N2-1,N2-2,A-1,A-2,B-1,B-2,C-1,C-2_T:D-1,D-2 [('A', 1231), (None, 158), ('T', 40)]\n",
      "31/A:A-1,A-2,B-1,B-2,C-1,C-2_AATAA:N2-1,N2-2,D-1,D-2 [(None, 1405), ('A', 69), ('G', 5)]\n",
      "32/A:A-1,A-2,B-1,B-2,C-1,C-2,D-1,D-2_G:N2-1,N2-2 [('A', 1072), (None, 384), ('G', 15)]\n"
     ]
    }
   ],
   "source": [
    "# report the counts\n",
    "for col in df:\n",
    "    print col, Counter(df[col]).most_common(3)"
   ]
  },
  {
   "cell_type": "code",
   "execution_count": 140,
   "metadata": {
    "collapsed": true
   },
   "outputs": [],
   "source": [
    "# dig into the in frame stop\n",
    "tmp = Counter()\n",
    "for a in reads:\n",
    "    r = [a.qname]\n",
    "    m = {y: x for x, y in a.get_aligned_pairs()}\n",
    "    start = m.get(642, None)\n",
    "    stop = m.get(643, None)\n",
    "    if start is not None and stop is not None:\n",
    "        seq = a.seq[start:stop]\n",
    "    else:\n",
    "        seq = None\n",
    "    tmp[seq] += 1"
   ]
  },
  {
   "cell_type": "code",
   "execution_count": 247,
   "metadata": {
    "collapsed": false
   },
   "outputs": [],
   "source": [
    "# attempt clustering\n",
    "# reduce each row into a count for each haplotype\n",
    "# first construct a map of position -> base -> paralogs\n",
    "para_map = defaultdict(lambda: defaultdict(set))\n",
    "for i, row in feature_df.T.iterrows():\n",
    "    for para, base in row.iteritems():\n",
    "        para_map[i][base].add(para)"
   ]
  },
  {
   "cell_type": "code",
   "execution_count": 251,
   "metadata": {
    "collapsed": false
   },
   "outputs": [],
   "source": [
    "# now use this on the dataframe\n",
    "grouped_results = defaultdict(list)\n",
    "for read_id, row in df.iterrows():\n",
    "    for i, (_, base) in enumerate(row.iteritems()):\n",
    "        grouped_results[read_id].append(para_map[i][base])"
   ]
  },
  {
   "cell_type": "code",
   "execution_count": 264,
   "metadata": {
    "collapsed": false
   },
   "outputs": [],
   "source": [
    "# how many contain distinct groups?\n",
    "counts = Counter()\n",
    "for read_id, sets in grouped_results.iteritems():\n",
    "    try:\n",
    "        c = set.intersection(*[x for x in sets if len(x) > 0])\n",
    "    except TypeError:\n",
    "        continue\n",
    "    if len(c) > 0:\n",
    "        counts[frozenset(c)] += 1"
   ]
  },
  {
   "cell_type": "code",
   "execution_count": 238,
   "metadata": {
    "collapsed": false
   },
   "outputs": [
    {
     "name": "stdout",
     "output_type": "stream",
     "text": [
      "0/C:D-1,D-2_T:N2-1,N2-2,A-1,A-2,B-1,B-2,C-1,C-2 [(None, 1284), ('T', 199)]\n",
      "1/C:A-1,A-2,B-1,B-2,C-1,C-2,D-1,D-2_T:N2-1,N2-2 [(None, 1245), ('C', 238)]\n",
      "2/CGGC:N2-1,N2-2,A-1,A-2,C-1,C-2,D-1,D-2_C:B-1,B-2 [(None, 1152), ('CGGC', 269), ('CGGT', 40)]\n",
      "3/C:B-1,B-2_G:N2-1,N2-2,A-1,A-2,C-1,C-2,D-1,D-2 [(None, 765), ('G', 443), ('C', 186)]\n",
      "4/A:D-1,D-2_G:N2-1,N2-2,A-1,A-2,B-1,B-2,C-1,C-2 [('G', 934), (None, 514), ('A', 35)]\n",
      "5/CC:N2-1,N2-2,B-1,B-2,C-1,C-2,D-1,D-2_C:A-1,A-2 [('CC', 626), (None, 551), ('C', 274)]\n",
      "6/T:C-1,C-2_G:N2-1,N2-2,A-1,A-2,B-1,B-2,D-1,D-2 [('G', 828), (None, 601), ('T', 54)]\n",
      "7/C:C-1,C-2_G:N2-1,N2-2,A-1,A-2,B-1,B-2,D-1,D-2 [('G', 925), (None, 503), ('C', 55)]\n",
      "8/GCGGCGGCGGA:A-1,A-2_GCGGCGGCGGC:C-2_GCGGCGGAGGA:N2-1,N2-2_GCGGCGGCGGCGGAGGAGGA:D-1,D-2_GA:B-1,B-2_GCGGCGGCGGCGGCGGAGGA:C-1 [(None, 1351), ('GCGGCGGCGGA', 49), ('GCGGA', 30)]\n",
      "9/A:N2-1,N2-2,A-1,A-2,B-1,B-2,D-1,D-2_C:C-1,C-2 [('A', 941), (None, 357), ('C', 185)]\n",
      "10/A:A-1,A-2_G:N2-1,N2-2,B-1,B-2,C-1,C-2,D-1,D-2 [('G', 962), ('A', 301), (None, 220)]\n",
      "11/GCC:N2-1,N2-2,A-1,A-2,B-1,B-2_GTC:D-1,D-2_G:C-1,C-2 [('GCC', 721), (None, 547), ('GC', 183)]\n",
      "12/C:N2-1,N2-2,A-1,A-2,B-1,B-2,C-1,C-2_G:D-1,D-2 [('C', 1097), (None, 320), ('G', 36)]\n",
      "13/A:A-1,A-2,B-1,B-2,C-1,C-2_G:N2-1,N2-2,D-1,D-2 [('A', 1302), (None, 117), ('G', 64)]\n",
      "14/A:D-1,D-2_G:N2-1,N2-2,A-1,A-2,B-1,B-2,C-1,C-2 [('G', 1309), (None, 147), ('A', 27)]\n",
      "15/A:N2-1,N2-2,A-1,A-2,B-1,B-2,C-1,C-2_G:D-1,D-2 [('A', 1200), (None, 207), ('G', 76)]\n",
      "16/A:N2-1,N2-2,A-1,A-2,B-1,B-2,C-1,C-2_G:D-1,D-2 [('A', 1340), (None, 98), ('G', 45)]\n",
      "17/A:N2-1,N2-2_G:A-1,A-2,B-1,B-2,C-1,C-2,D-1,D-2 [('G', 1327), (None, 139), ('A', 17)]\n",
      "18/C:D-1,D-2_T:N2-1,N2-2,A-1,A-2,B-1,B-2,C-1,C-2 [('T', 1130), (None, 314), ('C', 39)]\n",
      "19/C:N2-1,N2-2,A-1,A-2,B-1,C-1,C-2,D-1,D-2_T:B-2 [('C', 1286), (None, 146), ('T', 51)]\n",
      "20/C:N2-1,N2-2_T:A-1,A-2,B-1,B-2,C-1,C-2,D-1,D-2 [('T', 1021), (None, 446), ('C', 16)]\n",
      "21/A:N2-1,N2-2,A-2,B-1,B-2,C-1,C-2,D-1,D-2_G:A-1 [('A', 793), (None, 448), ('G', 242)]\n",
      "22/C:A-1,A-2,B-1,B-2,C-1,C-2,D-1,D-2_G:N2-1,N2-2 [('C', 1287), (None, 120), ('T', 76)]\n",
      "23/C:N2-1,N2-2,A-1,A-2,B-1,B-2,C-1,C-2_T:D-1,D-2 [('C', 844), (None, 598), ('T', 41)]\n",
      "24/A:N2-1,N2-2_G:A-1,A-2,B-1,B-2,C-1,C-2,D-1,D-2 [('G', 1247), (None, 236)]\n",
      "25/C:N2-1,N2-2,A-2,B-1,B-2,C-1,C-2,D-1,D-2_T:A-1 [('C', 1058), (None, 224), ('T', 201)]\n",
      "26/C:N2-1,N2-2_T:A-1,A-2,B-1,B-2,C-1,C-2,D-1,D-2 [('T', 1121), (None, 346), ('TT', 16)]\n",
      "27/A:D-1,D-2_C:N2-1,N2-2,A-1,A-2,B-1,B-2,C-1,C-2 [('C', 1182), (None, 236), ('A', 36)]\n",
      "28/A:D-1,D-2_C:N2-1,N2-2,A-1,A-2,B-1,B-2,C-1,C-2 [('C', 776), (None, 678), ('A', 29)]\n",
      "29/A:N2-1,N2-2_G:A-1,A-2,B-1,B-2,C-1,C-2,D-1,D-2 [('G', 1292), (None, 160), ('A', 31)]\n",
      "30/A:N2-1,N2-2,A-1,A-2,B-1,B-2,C-1,C-2_T:D-1,D-2 [('A', 1231), (None, 168), ('T', 40)]\n",
      "31/A:A-1,A-2,B-1,B-2,C-1,C-2_AATAA:N2-1,N2-2,D-1,D-2 [(None, 1414), ('A', 69)]\n",
      "32/A:A-1,A-2,B-1,B-2,C-1,C-2,D-1,D-2_G:N2-1,N2-2 [('A', 1072), (None, 396), ('G', 15)]\n"
     ]
    }
   ],
   "source": [
    "# attempt to cluster\n",
    "# first, replace all rare values with None\n",
    "# rare values are values that appear in less than 1% of times in the column\n",
    "new_df = defaultdict(list)\n",
    "for col in df:\n",
    "    counts = Counter(df[col])\n",
    "    percents = {x: 1.0 * y / len(df) for x, y in counts.iteritems()}\n",
    "    for read_id, val in df[col].iteritems():\n",
    "        if percents[val] > 0.01:\n",
    "            new_df[read_id].append(val)\n",
    "        else:\n",
    "            new_df[read_id].append(None)\n",
    "\n",
    "new_df = pd.DataFrame.from_dict(new_df)\n",
    "new_df = new_df.T\n",
    "new_df.columns = df.columns\n",
    "\n",
    "# report the counts\n",
    "for col in new_df:\n",
    "    print col, Counter(new_df[col]).most_common(3)"
   ]
  },
  {
   "cell_type": "code",
   "execution_count": 292,
   "metadata": {
    "collapsed": false
   },
   "outputs": [],
   "source": [
    "# repeat the above counts process, using these filtered datasets\n",
    "# now use this on the dataframe\n",
    "grouped_results = defaultdict(list)\n",
    "for read_id, row in new_df.iterrows():\n",
    "    for i, (_, base) in enumerate(row.iteritems()):\n",
    "        grouped_results[read_id].append(para_map[i][base])\n",
    "\n",
    "counts_filtered = Counter()\n",
    "for read_id, sets in grouped_results.iteritems():\n",
    "    try:\n",
    "        c = set.intersection(*[x for x in sets if len(x) > 0])\n",
    "    except TypeError:\n",
    "        continue\n",
    "    if len(c) > 0:\n",
    "        counts_filtered[frozenset(c)] += 1"
   ]
  },
  {
   "cell_type": "code",
   "execution_count": 297,
   "metadata": {
    "collapsed": false
   },
   "outputs": [],
   "source": [
    "# what about the ones that don't have a unique combination?\n",
    "failed = []\n",
    "for read_id, sets in grouped_results.iteritems():\n",
    "    try:\n",
    "        c = set.intersection(*[x for x in sets if len(x) > 0])\n",
    "    except TypeError:\n",
    "        continue\n",
    "    if len(c) == 0:\n",
    "        failed.append([read_id, sets])"
   ]
  },
  {
   "cell_type": "code",
   "execution_count": 300,
   "metadata": {
    "collapsed": false
   },
   "outputs": [
    {
     "name": "stdout",
     "output_type": "stream",
     "text": [
      "65 131\n"
     ]
    }
   ],
   "source": [
    "# how many of the failed ones contain the D sets? N2 sets?\n",
    "n = 0\n",
    "d = 0\n",
    "for read_id, sets in failed:\n",
    "    if {'NOTCH2NL-D-1', 'NOTCH2NL-D-2'} in sets:\n",
    "        d += 1\n",
    "    elif {'NOTCH2-1', 'NOTCH2-2'} in sets:\n",
    "        n += 1\n",
    "print n, d"
   ]
  },
  {
   "cell_type": "code",
   "execution_count": 319,
   "metadata": {
    "collapsed": false
   },
   "outputs": [
    {
     "name": "stdout",
     "output_type": "stream",
     "text": [
      "0/C:D-1,D-2_T:N2-1,N2-2,A-1,A-2,B-1,B-2,C-1,C-2 [(None, 475), ('T', 84), ('C', 11)]\n",
      "1/C:A-1,A-2,B-1,B-2,C-1,C-2,D-1,D-2_T:N2-1,N2-2 [(None, 449), ('C', 117), ('T', 2)]\n",
      "2/CGGC:N2-1,N2-2,A-1,A-2,C-1,C-2,D-1,D-2_C:B-1,B-2 [(None, 370), ('CGGC', 162), ('CGGT', 14)]\n",
      "3/C:B-1,B-2_G:N2-1,N2-2,A-1,A-2,C-1,C-2,D-1,D-2 [('G', 255), (None, 216), ('C', 62)]\n",
      "4/A:D-1,D-2_G:N2-1,N2-2,A-1,A-2,B-1,B-2,C-1,C-2 [('G', 404), (None, 134), ('A', 32)]\n",
      "5/CC:N2-1,N2-2,B-1,B-2,C-1,C-2,D-1,D-2_C:A-1,A-2 [('CC', 321), (None, 131), ('C', 94)]\n",
      "6/T:C-1,C-2_G:N2-1,N2-2,A-1,A-2,B-1,B-2,D-1,D-2 [('G', 381), (None, 154), ('T', 19)]\n",
      "7/C:C-1,C-2_G:N2-1,N2-2,A-1,A-2,B-1,B-2,D-1,D-2 [('G', 404), (None, 136), ('C', 21)]\n",
      "8/GCGGCGGCGGA:A-1,A-2_GCGGCGGCGGC:C-2_GCGGCGGAGGA:N2-1,N2-2_GCGGCGGCGGCGGAGGAGGA:D-1,D-2_GA:B-1,B-2_GCGGCGGCGGCGGCGGAGGA:C-1 [(None, 469), ('GCGGA', 12), ('GCGGCGGCGGA', 10)]\n",
      "9/A:N2-1,N2-2,A-1,A-2,B-1,B-2,D-1,D-2_C:C-1,C-2 [('A', 384), (None, 123), ('C', 62)]\n",
      "10/A:A-1,A-2_G:N2-1,N2-2,B-1,B-2,C-1,C-2,D-1,D-2 [('G', 451), ('A', 73), (None, 44)]\n",
      "11/GCC:N2-1,N2-2,A-1,A-2,B-1,B-2_GTC:D-1,D-2_G:C-1,C-2 [('GCC', 279), (None, 165), ('GC', 79)]\n",
      "12/C:N2-1,N2-2,A-1,A-2,B-1,B-2,C-1,C-2_G:D-1,D-2 [('C', 419), (None, 101), ('G', 33)]\n",
      "13/A:A-1,A-2,B-1,B-2,C-1,C-2_G:N2-1,N2-2,D-1,D-2 [('A', 478), ('G', 61), (None, 33)]\n",
      "14/A:D-1,D-2_G:N2-1,N2-2,A-1,A-2,B-1,B-2,C-1,C-2 [('G', 492), (None, 47), ('A', 25)]\n",
      "15/A:N2-1,N2-2,A-1,A-2,B-1,B-2,C-1,C-2_G:D-1,D-2 [('A', 416), ('G', 75), (None, 75)]\n",
      "16/A:N2-1,N2-2,A-1,A-2,B-1,B-2,C-1,C-2_G:D-1,D-2 [('A', 491), ('G', 42), (None, 35)]\n",
      "17/A:N2-1,N2-2_G:A-1,A-2,B-1,B-2,C-1,C-2,D-1,D-2 [('G', 512), (None, 44), ('A', 15)]\n",
      "18/C:D-1,D-2_T:N2-1,N2-2,A-1,A-2,B-1,B-2,C-1,C-2 [('T', 410), (None, 122), ('C', 37)]\n",
      "19/C:N2-1,N2-2,A-1,A-2,B-1,C-1,C-2,D-1,D-2_T:B-2 [('C', 504), (None, 45), ('T', 19)]\n",
      "20/C:N2-1,N2-2_T:A-1,A-2,B-1,B-2,C-1,C-2,D-1,D-2 [('T', 400), (None, 153), ('C', 15)]\n",
      "21/A:N2-1,N2-2,A-2,B-1,B-2,C-1,C-2,D-1,D-2_G:A-1 [('A', 310), (None, 142), ('G', 114)]\n",
      "22/C:A-1,A-2,B-1,B-2,C-1,C-2,D-1,D-2_G:N2-1,N2-2 [('C', 500), ('T', 34), (None, 33)]\n",
      "23/C:N2-1,N2-2,A-1,A-2,B-1,B-2,C-1,C-2_T:D-1,D-2 [('C', 292), (None, 233), ('T', 40)]\n",
      "24/A:N2-1,N2-2_G:A-1,A-2,B-1,B-2,C-1,C-2,D-1,D-2 [('G', 469), (None, 85), ('A', 10)]\n",
      "25/C:N2-1,N2-2,A-2,B-1,B-2,C-1,C-2,D-1,D-2_T:A-1 [('C', 420), (None, 73), ('T', 69)]\n",
      "26/C:N2-1,N2-2_T:A-1,A-2,B-1,B-2,C-1,C-2,D-1,D-2 [('T', 457), (None, 95), ('TT', 10)]\n",
      "27/A:D-1,D-2_C:N2-1,N2-2,A-1,A-2,B-1,B-2,C-1,C-2 [('C', 445), (None, 79), ('A', 34)]\n",
      "28/A:D-1,D-2_C:N2-1,N2-2,A-1,A-2,B-1,B-2,C-1,C-2 [('C', 304), (None, 229), ('A', 27)]\n",
      "29/A:N2-1,N2-2_G:A-1,A-2,B-1,B-2,C-1,C-2,D-1,D-2 [('G', 487), (None, 53), ('A', 31)]\n",
      "30/A:N2-1,N2-2,A-1,A-2,B-1,B-2,C-1,C-2_T:D-1,D-2 [('A', 452), (None, 62), ('T', 39)]\n",
      "31/A:A-1,A-2,B-1,B-2,C-1,C-2_AATAA:N2-1,N2-2,D-1,D-2 [(None, 515), ('A', 54), ('G', 2)]\n",
      "32/A:A-1,A-2,B-1,B-2,C-1,C-2,D-1,D-2_G:N2-1,N2-2 [('A', 400), (None, 149), ('G', 15)]\n"
     ]
    }
   ],
   "source": [
    "# how many distinct groupings of positions do we see in the failed set?\n",
    "failed_ids = zip(*failed)[0]\n",
    "failed_df = df[df.index.isin(failed_ids)]\n",
    "\n",
    "# report the counts\n",
    "for col in failed_df:\n",
    "    print col, Counter(failed_df[col]).most_common(3)"
   ]
  },
  {
   "cell_type": "code",
   "execution_count": null,
   "metadata": {
    "collapsed": true
   },
   "outputs": [],
   "source": []
  }
 ],
 "metadata": {
  "kernelspec": {
   "display_name": "Python [Root]",
   "language": "python",
   "name": "Python [Root]"
  },
  "language_info": {
   "codemirror_mode": {
    "name": "ipython",
    "version": 2
   },
   "file_extension": ".py",
   "mimetype": "text/x-python",
   "name": "python",
   "nbconvert_exporter": "python",
   "pygments_lexer": "ipython2",
   "version": "2.7.11"
  }
 },
 "nbformat": 4,
 "nbformat_minor": 0
}
