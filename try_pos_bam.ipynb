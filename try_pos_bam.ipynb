{
 "cells": [
  {
   "cell_type": "code",
   "execution_count": null,
   "metadata": {
    "collapsed": false
   },
   "outputs": [],
   "source": [
    "%%bash\n",
    "samtools view -b outs/phased_possorted_bam.bam chr1:119989247-120190000 \\\n",
    "chr1:120705668-120801220 chr1:146149144-146328264 chr1:148600084-148801427 chr1:149328817-149471555 | \\\n",
    "samtools fastq /dev/stdin > reads.fq\n",
    "# THIS DID NOT WORK -- FULL COVERAGE EVERYWHERE? WHY?"
   ]
  },
  {
   "cell_type": "code",
   "execution_count": 34,
   "metadata": {
    "collapsed": false
   },
   "outputs": [
    {
     "name": "stderr",
     "output_type": "stream",
     "text": [
      "[M::bwa_idx_load_from_disk] read 0 ALT contigs\n",
      "[M::process] read 1146914 sequences (160000092 bp)...\n",
      "[M::process] read 1146970 sequences (160000061 bp)...\n",
      "[M::mem_process_seqs] Processed 1146914 reads in 394.847 CPU sec, 24.660 real sec\n",
      "[M::process] read 495808 sequences (69161881 bp)...\n",
      "[M::mem_process_seqs] Processed 1146970 reads in 489.143 CPU sec, 30.570 real sec\n",
      "[M::mem_process_seqs] Processed 495808 reads in 212.232 CPU sec, 13.179 real sec\n",
      "[main] Version: 0.7.12-r1044\n",
      "[main] CMD: bwa mem -t 16 /hive/users/ifiddes/notch2nl_berkeley_data/E2del19N_E2del68_combined_longranger/E2del68_E2del19N_combined/new-assembly/scaffolded.fa notch_reads.fq\n",
      "[main] Real time: 70.813 sec; CPU: 1098.387 sec\n"
     ]
    }
   ],
   "source": [
    "%%bash\n",
    "bwa mem -t 16 /hive/users/ifiddes/notch2nl_berkeley_data/E2del19N_E2del68_combined_longranger/E2del68_E2del19N_combined/new-assembly/scaffolded.fa notch_reads.fq > combined_scaffold_mapped.sam "
   ]
  },
  {
   "cell_type": "code",
   "execution_count": 24,
   "metadata": {
    "collapsed": false
   },
   "outputs": [],
   "source": [
    "# load barcode map\n",
    "bcode_map = {}\n",
    "import pysam\n",
    "for x in pysam.Samfile('outs/phased_possorted_bam.bam'):\n",
    "    if x.has_tag('BX'):\n",
    "        bcode_map[x.qname] = x.get_tag('BX')"
   ]
  },
  {
   "cell_type": "code",
   "execution_count": 35,
   "metadata": {
    "collapsed": false
   },
   "outputs": [],
   "source": [
    "# divide reads by barcode\n",
    "import pysam\n",
    "import numpy as np\n",
    "from collections import *\n",
    "s = defaultdict(list)\n",
    "for x in pysam.Samfile('combined_scaffold_mapped.sam'):\n",
    "    if not x.is_unmapped:\n",
    "        try:\n",
    "            bcode = bcode_map[x.qname]\n",
    "        except KeyError:\n",
    "            continue\n",
    "        s[bcode].append(x)\n",
    "\n",
    "# find haplotype with highest average mapq\n",
    "by_avg = {}\n",
    "for bcode, reads in s.iteritems():\n",
    "    by_tgt = defaultdict(list)\n",
    "    for r in reads:\n",
    "        by_tgt[r.reference_name].append([r, r.mapq])\n",
    "    avgs = {}\n",
    "    for rname, rname_vals in by_tgt.iteritems():\n",
    "        rname_reads, mapqs = zip(*rname_vals)\n",
    "        avgs[rname] = np.mean(mapqs)\n",
    "    if all(x == 0 for x in avgs.itervalues()):\n",
    "        continue\n",
    "    ordered = sorted(avgs.iteritems(), key=lambda x:x[1])\n",
    "    best_name, best_score = ordered[-1]\n",
    "    if len(ordered) > 1 and best_score > ordered[-2][1]:\n",
    "        mappings = [x for x in reads if x.reference_name == best_name]\n",
    "        by_avg[bcode] = mappings\n",
    "\n"
   ]
  },
  {
   "cell_type": "code",
   "execution_count": 36,
   "metadata": {
    "collapsed": false
   },
   "outputs": [
    {
     "data": {
      "text/plain": [
       "[<matplotlib.axis.XTick at 0x7f218c657350>,\n",
       " <matplotlib.axis.XTick at 0x7f218c6571d0>,\n",
       " <matplotlib.axis.XTick at 0x7f20db47cdd0>,\n",
       " <matplotlib.axis.XTick at 0x7f218c582f50>,\n",
       " <matplotlib.axis.XTick at 0x7f20db508f10>,\n",
       " <matplotlib.axis.XTick at 0x7f20db40f490>,\n",
       " <matplotlib.axis.XTick at 0x7f20db40fdd0>,\n",
       " <matplotlib.axis.XTick at 0x7f21cfbe16d0>,\n",
       " <matplotlib.axis.XTick at 0x7f21cfbe1e50>,\n",
       " <matplotlib.axis.XTick at 0x7f21bcce4610>]"
      ]
     },
     "execution_count": 36,
     "metadata": {},
     "output_type": "execute_result"
    },
    {
     "data": {
      "image/png": "[encoded data removed]",
      "text/plain": [
       "<matplotlib.figure.Figure at 0x7f218c596150>"
      ]
     },
     "metadata": {},
     "output_type": "display_data"
    }
   ],
   "source": [
    "import pandas as pd\n",
    "import matplotlib.pyplot as plt\n",
    "import seaborn as sns\n",
    "%matplotlib inline\n",
    "# distribution by name?\n",
    "hits = []\n",
    "for x in by_avg.itervalues():\n",
    "    hits.append(x[0].reference_name)\n",
    "\n",
    "df = pd.DataFrame.from_dict(Counter(hits).items())\n",
    "df = df.set_index(0).T\n",
    "fig, ax = plt.subplots()\n",
    "bars = []\n",
    "cumulative = np.zeros(len(df.columns))\n",
    "color_palette = sns.color_palette(\"Set2\", 10)\n",
    "for i, (_, d) in enumerate(df.iterrows()):\n",
    "    bars.append(ax.bar(np.arange(len(df.columns)), d, 0.3, bottom=cumulative,\n",
    "                       color=color_palette[i], linewidth=0.0))\n",
    "    cumulative += d\n",
    "names = df.columns\n",
    "import matplotlib\n",
    "ax.margins(y=0.15)\n",
    "ax.autoscale(enable=True, axis='y', tight=False)\n",
    "ax.set_ylim(0, plt.ylim()[1])\n",
    "ax.yaxis.set_major_locator(matplotlib.ticker.MaxNLocator(nbins=10, steps=[1, 2, 5, 10], integer=True))\n",
    "ax.xaxis.set_major_locator(matplotlib.ticker.LinearLocator(len(names)))\n",
    "ax.yaxis.set_minor_locator(matplotlib.ticker.AutoMinorLocator())\n",
    "ax.xaxis.set_ticklabels(names, rotation=90)\n",
    "ax.xaxis.set_ticks(np.arange(0, len(names)) + 0.3 / 2.0)"
   ]
  },
  {
   "cell_type": "code",
   "execution_count": 37,
   "metadata": {
    "collapsed": true
   },
   "outputs": [],
   "source": [
    "# construct a separate BAM for each of these putative haplotypes\n",
    "# reshape to be by-reference\n",
    "by_reference = defaultdict(list)\n",
    "for x in by_avg.itervalues():\n",
    "    for y in x:\n",
    "        by_reference[y.reference_name].append(y)\n",
    "\n",
    "        \n",
    "sh = pysam.Samfile('combined_scaffold_mapped.sam')\n",
    "for name, reads in by_reference.iteritems():\n",
    "    with pysam.Samfile(name + '.bam', 'wb', template=sh) as outf:\n",
    "        for x in reads:\n",
    "            outf.write(x)"
   ]
  },
  {
   "cell_type": "code",
   "execution_count": 38,
   "metadata": {
    "collapsed": false
   },
   "outputs": [
    {
     "name": "stderr",
     "output_type": "stream",
     "text": [
      "verbose: False\n",
      "out_file_for_raw_data: None\n",
      "numberOfSamples: None\n",
      "bedFile: None\n",
      "bamFilesList: ['A1.bam.sorted']\n",
      "ignoreDuplicates: False\n",
      "numberOfProcessors: 32\n",
      "samFlag_exclude: None\n",
      "save_data: False\n",
      "blackList: None\n",
      "stepSize: 5\n",
      "smoothLength: None\n",
      "center_read: False\n",
      "defaultFragmentLength: read length\n",
      "chrsToSkip: []\n",
      "region: None\n",
      "maxPairedFragmentLength: 1000\n",
      "samFlag_include: None\n",
      "binLength: 5\n",
      "blackListFileName: None\n",
      "minMappingQuality: None\n",
      "zerosToNans: False\n",
      "verbose: False\n",
      "out_file_for_raw_data: None\n",
      "numberOfSamples: None\n",
      "bedFile: None\n",
      "bamFilesList: ['B1.bam.sorted']\n",
      "ignoreDuplicates: False\n",
      "numberOfProcessors: 32\n",
      "samFlag_exclude: None\n",
      "save_data: False\n",
      "blackList: None\n",
      "stepSize: 5\n",
      "smoothLength: None\n",
      "center_read: False\n",
      "defaultFragmentLength: read length\n",
      "chrsToSkip: []\n",
      "region: None\n",
      "maxPairedFragmentLength: 1000\n",
      "samFlag_include: None\n",
      "binLength: 5\n",
      "blackListFileName: None\n",
      "minMappingQuality: None\n",
      "zerosToNans: False\n",
      "verbose: False\n",
      "out_file_for_raw_data: None\n",
      "numberOfSamples: None\n",
      "bedFile: None\n",
      "bamFilesList: ['C1.bam.sorted']\n",
      "ignoreDuplicates: False\n",
      "numberOfProcessors: 32\n",
      "samFlag_exclude: None\n",
      "save_data: False\n",
      "blackList: None\n",
      "stepSize: 5\n",
      "smoothLength: None\n",
      "center_read: False\n",
      "defaultFragmentLength: read length\n",
      "chrsToSkip: []\n",
      "region: None\n",
      "maxPairedFragmentLength: 1000\n",
      "samFlag_include: None\n",
      "binLength: 5\n",
      "blackListFileName: None\n",
      "minMappingQuality: None\n",
      "zerosToNans: False\n",
      "verbose: False\n",
      "out_file_for_raw_data: None\n",
      "numberOfSamples: None\n",
      "bedFile: None\n",
      "bamFilesList: ['D1.bam.sorted']\n",
      "ignoreDuplicates: False\n",
      "numberOfProcessors: 32\n",
      "samFlag_exclude: None\n",
      "save_data: False\n",
      "blackList: None\n",
      "stepSize: 5\n",
      "smoothLength: None\n",
      "center_read: False\n",
      "defaultFragmentLength: read length\n",
      "chrsToSkip: []\n",
      "region: None\n",
      "maxPairedFragmentLength: 1000\n",
      "samFlag_include: None\n",
      "binLength: 5\n",
      "blackListFileName: None\n",
      "minMappingQuality: None\n",
      "zerosToNans: False\n",
      "verbose: False\n",
      "out_file_for_raw_data: None\n",
      "numberOfSamples: None\n",
      "bedFile: None\n",
      "bamFilesList: ['N1.bam.sorted']\n",
      "ignoreDuplicates: False\n",
      "numberOfProcessors: 32\n",
      "samFlag_exclude: None\n",
      "save_data: False\n",
      "blackList: None\n",
      "stepSize: 5\n",
      "smoothLength: None\n",
      "center_read: False\n",
      "defaultFragmentLength: read length\n",
      "chrsToSkip: []\n",
      "region: None\n",
      "maxPairedFragmentLength: 1000\n",
      "samFlag_include: None\n",
      "binLength: 5\n",
      "blackListFileName: None\n",
      "minMappingQuality: None\n",
      "zerosToNans: False\n",
      "verbose: False\n",
      "out_file_for_raw_data: None\n",
      "numberOfSamples: None\n",
      "bedFile: None\n",
      "bamFilesList: ['A2.bam.sorted']\n",
      "ignoreDuplicates: False\n",
      "numberOfProcessors: 32\n",
      "samFlag_exclude: None\n",
      "save_data: False\n",
      "blackList: None\n",
      "stepSize: 5\n",
      "smoothLength: None\n",
      "center_read: False\n",
      "defaultFragmentLength: read length\n",
      "chrsToSkip: []\n",
      "region: None\n",
      "maxPairedFragmentLength: 1000\n",
      "samFlag_include: None\n",
      "binLength: 5\n",
      "blackListFileName: None\n",
      "minMappingQuality: None\n",
      "zerosToNans: False\n",
      "verbose: False\n",
      "out_file_for_raw_data: None\n",
      "numberOfSamples: None\n",
      "bedFile: None\n",
      "bamFilesList: ['B2.bam.sorted']\n",
      "ignoreDuplicates: False\n",
      "numberOfProcessors: 32\n",
      "samFlag_exclude: None\n",
      "save_data: False\n",
      "blackList: None\n",
      "stepSize: 5\n",
      "smoothLength: None\n",
      "center_read: False\n",
      "defaultFragmentLength: read length\n",
      "chrsToSkip: []\n",
      "region: None\n",
      "maxPairedFragmentLength: 1000\n",
      "samFlag_include: None\n",
      "binLength: 5\n",
      "blackListFileName: None\n",
      "minMappingQuality: None\n",
      "zerosToNans: False\n",
      "verbose: False\n",
      "out_file_for_raw_data: None\n",
      "numberOfSamples: None\n",
      "bedFile: None\n",
      "bamFilesList: ['C2.bam.sorted']\n",
      "ignoreDuplicates: False\n",
      "numberOfProcessors: 32\n",
      "samFlag_exclude: None\n",
      "save_data: False\n",
      "blackList: None\n",
      "stepSize: 5\n",
      "smoothLength: None\n",
      "center_read: False\n",
      "defaultFragmentLength: read length\n",
      "chrsToSkip: []\n",
      "region: None\n",
      "maxPairedFragmentLength: 1000\n",
      "samFlag_include: None\n",
      "binLength: 5\n",
      "blackListFileName: None\n",
      "minMappingQuality: None\n",
      "zerosToNans: False\n",
      "verbose: False\n",
      "out_file_for_raw_data: None\n",
      "numberOfSamples: None\n",
      "bedFile: None\n",
      "bamFilesList: ['D2.bam.sorted']\n",
      "ignoreDuplicates: False\n",
      "numberOfProcessors: 32\n",
      "samFlag_exclude: None\n",
      "save_data: False\n",
      "blackList: None\n",
      "stepSize: 5\n",
      "smoothLength: None\n",
      "center_read: False\n",
      "defaultFragmentLength: read length\n",
      "chrsToSkip: []\n",
      "region: None\n",
      "maxPairedFragmentLength: 1000\n",
      "samFlag_include: None\n",
      "binLength: 5\n",
      "blackListFileName: None\n",
      "minMappingQuality: None\n",
      "zerosToNans: False\n",
      "verbose: False\n",
      "out_file_for_raw_data: None\n",
      "numberOfSamples: None\n",
      "bedFile: None\n",
      "bamFilesList: ['N2.bam.sorted']\n",
      "ignoreDuplicates: False\n",
      "numberOfProcessors: 32\n",
      "samFlag_exclude: None\n",
      "save_data: False\n",
      "blackList: None\n",
      "stepSize: 5\n",
      "smoothLength: None\n",
      "center_read: False\n",
      "defaultFragmentLength: read length\n",
      "chrsToSkip: []\n",
      "region: None\n",
      "maxPairedFragmentLength: 1000\n",
      "samFlag_include: None\n",
      "binLength: 5\n",
      "blackListFileName: None\n",
      "minMappingQuality: None\n",
      "zerosToNans: False\n"
     ]
    }
   ],
   "source": [
    "%%bash\n",
    "# generate a coverage plot\n",
    "for f in *{1,2}.bam; do\n",
    "    sambamba sort -o ${f}.sorted ${f}\n",
    "    samtools index ${f}.sorted\n",
    "    bamCoverage -b ${f}.sorted -o ${f}.bw --binSize 5\n",
    "done"
   ]
  },
  {
   "cell_type": "code",
   "execution_count": null,
   "metadata": {
    "collapsed": true
   },
   "outputs": [],
   "source": []
  },
  {
   "cell_type": "code",
   "execution_count": 39,
   "metadata": {
    "collapsed": false
   },
   "outputs": [
    {
     "name": "stdout",
     "output_type": "stream",
     "text": [
      "/hive/users/ifiddes/notch2nl_berkeley_data/E2del70\n"
     ]
    }
   ],
   "source": [
    "print os.getcwd()"
   ]
  },
  {
   "cell_type": "code",
   "execution_count": null,
   "metadata": {
    "collapsed": true
   },
   "outputs": [],
   "source": []
  }
 ],
 "metadata": {
  "kernelspec": {
   "display_name": "Python [Root]",
   "language": "python",
   "name": "Python [Root]"
  },
  "language_info": {
   "codemirror_mode": {
    "name": "ipython",
    "version": 2
   },
   "file_extension": ".py",
   "mimetype": "text/x-python",
   "name": "python",
   "nbconvert_exporter": "python",
   "pygments_lexer": "ipython2",
   "version": "2.7.11"
  }
 },
 "nbformat": 4,
 "nbformat_minor": 0
}
